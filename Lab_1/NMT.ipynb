{
 "cells": [
  {
   "cell_type": "markdown",
   "metadata": {},
   "source": [
    "### Neural Machine Translation in the wild"
   ]
  },
  {
   "cell_type": "code",
   "execution_count": 1,
   "metadata": {},
   "outputs": [
    {
     "name": "stdout",
     "output_type": "stream",
     "text": [
      "Dataset not found locally. Downloading from github. Loading special files as well\n",
      "File ‘data.txt’ already there; not retrieving.\r\n",
      "\r\n"
     ]
    }
   ],
   "source": [
    "import os\n",
    "path_do_data = '../../datasets/Machine_translation_EN_RU/data.txt'\n",
    "if not os.path.exists(path_do_data):\n",
    "    print(\"Dataset not found locally. Downloading from github. Loading special files as well\")\n",
    "    !wget https://raw.githubusercontent.com/neychev/made_nlp_course/spring2021/datasets/Machine_translation_EN_RU/data.txt -nc\n",
    "    path_do_data = './data.txt'"
   ]
  },
  {
   "cell_type": "code",
   "execution_count": 2,
   "metadata": {},
   "outputs": [],
   "source": [
    "if not os.path.exists('./utils.py'):\n",
    "    print(\"utils file not found locally. Downloading from github.\")\n",
    "    !wget https://raw.githubusercontent.com/neychev/made_nlp_course/spring2021/homeworks/Lab02_NMT/utils.py -nc\n",
    "\n",
    "if not os.path.exists('./my_network.py'):\n",
    "    print(\"network file not found locally. Downloading from github.\")\n",
    "    !wget https://raw.githubusercontent.com/neychev/made_nlp_course/spring2021/homeworks/Lab02_NMT/my_network.py -nc"
   ]
  },
  {
   "cell_type": "code",
   "execution_count": 3,
   "metadata": {},
   "outputs": [],
   "source": [
    "import torch\n",
    "import torch.nn as nn\n",
    "import torch.optim as optim\n",
    "\n",
    "import torchtext\n",
    "from torchtext.legacy.datasets import TranslationDataset, Multi30k\n",
    "from torchtext.legacy.data import Field, BucketIterator, TabularDataset\n",
    "\n",
    "import numpy as np\n",
    "\n",
    "import random\n",
    "import math\n",
    "import time\n",
    "\n",
    "import matplotlib\n",
    "matplotlib.rcParams.update({'figure.figsize': (16, 12), 'font.size': 14})\n",
    "import matplotlib.pyplot as plt\n",
    "%matplotlib inline\n",
    "from IPython.display import clear_output\n",
    "\n",
    "from nltk.tokenize import WordPunctTokenizer"
   ]
  },
  {
   "cell_type": "markdown",
   "metadata": {},
   "source": [
    "### Main part\n",
    "__Here comes the preprocessing.__"
   ]
  },
  {
   "cell_type": "code",
   "execution_count": 4,
   "metadata": {},
   "outputs": [],
   "source": [
    "tokenizer_W = WordPunctTokenizer()\n",
    "def tokenize(x, tokenizer=tokenizer_W):\n",
    "    return tokenizer.tokenize(x.lower())"
   ]
  },
  {
   "cell_type": "code",
   "execution_count": 5,
   "metadata": {},
   "outputs": [],
   "source": [
    "SRC = Field(tokenize=tokenize,\n",
    "            init_token = '<sos>', \n",
    "            eos_token = '<eos>', \n",
    "            lower = True)\n",
    "\n",
    "TRG = Field(tokenize=tokenize,\n",
    "            init_token = '<sos>', \n",
    "            eos_token = '<eos>', \n",
    "            lower = True)\n",
    "\n",
    "dataset = TabularDataset(\n",
    "    path=path_do_data,\n",
    "    format='tsv',\n",
    "    fields=[('trg', TRG), ('src', SRC)]\n",
    ")"
   ]
  },
  {
   "cell_type": "code",
   "execution_count": 6,
   "metadata": {},
   "outputs": [],
   "source": [
    "train_data, valid_data, test_data = dataset.split(split_ratio=[0.8, 0.15, 0.05], random_state=random.seed(42))"
   ]
  },
  {
   "cell_type": "code",
   "execution_count": 7,
   "metadata": {},
   "outputs": [],
   "source": [
    "SRC.build_vocab(train_data, min_freq = 3)\n",
    "TRG.build_vocab(train_data, min_freq = 3)"
   ]
  },
  {
   "cell_type": "code",
   "execution_count": 4,
   "metadata": {},
   "outputs": [],
   "source": [
    "device = torch.device('cuda:0' if torch.cuda.is_available() else 'cpu')"
   ]
  },
  {
   "cell_type": "code",
   "execution_count": 9,
   "metadata": {},
   "outputs": [
    {
     "data": {
      "text/plain": [
       "device(type='cuda', index=0)"
      ]
     },
     "execution_count": 9,
     "metadata": {},
     "output_type": "execute_result"
    }
   ],
   "source": [
    "device"
   ]
  },
  {
   "cell_type": "code",
   "execution_count": 10,
   "metadata": {},
   "outputs": [],
   "source": [
    "def _len_sort_key(x):\n",
    "    return len(x.src)\n",
    "\n",
    "BATCH_SIZE = 128\n",
    "\n",
    "train_iterator, valid_iterator, test_iterator = BucketIterator.splits(\n",
    "    (train_data, valid_data, test_data), \n",
    "    batch_size = BATCH_SIZE, \n",
    "    device = device,\n",
    "    sort_key=_len_sort_key\n",
    ")"
   ]
  },
  {
   "cell_type": "markdown",
   "metadata": {},
   "source": [
    "### Model 1 - RNN Attention\n",
    "__В данной модели в качестве энкодера выступает bidirectional GRU, в качестве декодера - однослойная GRU. Между энкодером и декодером добавлен механизм Attention. [(Архитектура attention взята отсюда)](https://github.com/bentrevett/pytorch-seq2seq/blob/master/3%20-%20Neural%20Machine%20Translation%20by%20Jointly%20Learning%20to%20Align%20and%20Translate.ipynb)__"
   ]
  },
  {
   "cell_type": "code",
   "execution_count": 11,
   "metadata": {},
   "outputs": [],
   "source": [
    "import my_network_RNN_Attention\n",
    "Encoder = my_network_RNN_Attention.Encoder\n",
    "Attention = my_network_RNN_Attention.Attention\n",
    "Decoder = my_network_RNN_Attention.Decoder\n",
    "Seq2Seq = my_network_RNN_Attention.Seq2Seq"
   ]
  },
  {
   "cell_type": "code",
   "execution_count": 12,
   "metadata": {},
   "outputs": [
    {
     "name": "stderr",
     "output_type": "stream",
     "text": [
      "/home/ubuntu/anaconda3/lib/python3.8/site-packages/torch/nn/modules/rnn.py:60: UserWarning: dropout option adds dropout after all but last recurrent layer, so non-zero dropout expects num_layers greater than 1, but got dropout=0.5 and num_layers=1\n",
      "  warnings.warn(\"dropout option adds dropout after all but last \"\n"
     ]
    }
   ],
   "source": [
    "INPUT_DIM = len(SRC.vocab)\n",
    "OUTPUT_DIM = len(TRG.vocab)\n",
    "ENC_EMB_DIM = 256\n",
    "DEC_EMB_DIM = 256\n",
    "HID_DIM = 512\n",
    "N_LAYERS = 1\n",
    "ENC_DROPOUT = 0.5\n",
    "DEC_DROPOUT = 0.5\n",
    "\n",
    "enc = Encoder(INPUT_DIM, ENC_EMB_DIM, HID_DIM, N_LAYERS, ENC_DROPOUT)\n",
    "attention = Attention(HID_DIM, HID_DIM * 2)\n",
    "dec = Decoder(OUTPUT_DIM, DEC_EMB_DIM, HID_DIM, N_LAYERS, DEC_DROPOUT, attention)\n",
    "\n",
    "model_rnn_attention = Seq2Seq(enc, dec, device).to(device)"
   ]
  },
  {
   "cell_type": "code",
   "execution_count": 13,
   "metadata": {},
   "outputs": [
    {
     "data": {
      "text/plain": [
       "Seq2Seq(\n",
       "  (encoder): Encoder(\n",
       "    (embedding): Embedding(9250, 256)\n",
       "    (rnn): GRU(256, 512, dropout=0.5, bidirectional=True)\n",
       "    (fc_out): Linear(in_features=1024, out_features=512, bias=True)\n",
       "    (dropout): Dropout(p=0.5, inplace=False)\n",
       "  )\n",
       "  (decoder): Decoder(\n",
       "    (attention): Attention(\n",
       "      (att): Linear(in_features=1536, out_features=512, bias=True)\n",
       "      (v): Linear(in_features=512, out_features=1, bias=False)\n",
       "    )\n",
       "    (embedding): Embedding(6736, 256)\n",
       "    (rnn): GRU(1280, 512, dropout=0.5)\n",
       "    (out): Linear(in_features=1792, out_features=6736, bias=True)\n",
       "    (dropout): Dropout(p=0.5, inplace=False)\n",
       "  )\n",
       ")"
      ]
     },
     "execution_count": 13,
     "metadata": {},
     "output_type": "execute_result"
    }
   ],
   "source": [
    "def init_weights(m):\n",
    "    for name, param in m.named_parameters():\n",
    "        nn.init.uniform_(param, -0.08, 0.08)\n",
    "        \n",
    "model_rnn_attention.apply(init_weights)"
   ]
  },
  {
   "cell_type": "code",
   "execution_count": 17,
   "metadata": {},
   "outputs": [],
   "source": [
    "def count_parameters(model):\n",
    "    return sum(p.numel() for p in model.parameters() if p.requires_grad)"
   ]
  },
  {
   "cell_type": "code",
   "execution_count": 14,
   "metadata": {},
   "outputs": [
    {
     "name": "stdout",
     "output_type": "stream",
     "text": [
      "The model has 22,603,344 trainable parameters\n"
     ]
    }
   ],
   "source": [
    "print(f'The model has {count_parameters(model_rnn_attention):,} trainable parameters')"
   ]
  },
  {
   "cell_type": "code",
   "execution_count": 15,
   "metadata": {},
   "outputs": [],
   "source": [
    "PAD_IDX = TRG.vocab.stoi['<pad>']\n",
    "optimizer = optim.Adam(model_rnn_attention.parameters())\n",
    "criterion = nn.CrossEntropyLoss(ignore_index = PAD_IDX)\n",
    "scheduler = optim.lr_scheduler.ReduceLROnPlateau(optimizer, patience=2)"
   ]
  },
  {
   "cell_type": "code",
   "execution_count": 18,
   "metadata": {},
   "outputs": [],
   "source": [
    "def train(model, iterator, optimizer, criterion, clip, train_history=None, valid_history=None):\n",
    "    model.train()\n",
    "    \n",
    "    epoch_loss = 0\n",
    "    history = []\n",
    "    for i, batch in enumerate(iterator):\n",
    "        \n",
    "        src = batch.src\n",
    "        trg = batch.trg\n",
    "        \n",
    "        optimizer.zero_grad()\n",
    "        \n",
    "        output = model(src, trg)\n",
    "        \n",
    "        #trg = [trg sent len, batch size]\n",
    "        #output = [trg sent len, batch size, output dim]\n",
    "        \n",
    "        output = output[1:].view(-1, output.shape[-1])\n",
    "        trg = trg[1:].view(-1)\n",
    "        \n",
    "        #trg = [(trg sent len - 1) * batch size]\n",
    "        #output = [(trg sent len - 1) * batch size, output dim]\n",
    "        \n",
    "        loss = criterion(output, trg)\n",
    "        \n",
    "        loss.backward()\n",
    "        \n",
    "        # Let's clip the gradient\n",
    "        torch.nn.utils.clip_grad_norm_(model.parameters(), clip)\n",
    "        \n",
    "        optimizer.step()\n",
    "        \n",
    "        epoch_loss += loss.item()\n",
    "        \n",
    "        history.append(loss.cpu().data.numpy())\n",
    "        if (i+1)%10==0:\n",
    "            fig, ax = plt.subplots(nrows=1, ncols=2, figsize=(12, 8))\n",
    "\n",
    "            clear_output(True)\n",
    "            ax[0].plot(history, label='train loss')\n",
    "            ax[0].set_xlabel('Batch')\n",
    "            ax[0].set_title('Train loss')\n",
    "            if train_history is not None:\n",
    "                ax[1].plot(train_history, label='general train history')\n",
    "                ax[1].set_xlabel('Epoch')\n",
    "            if valid_history is not None:\n",
    "                ax[1].plot(valid_history, label='general valid history')\n",
    "            plt.legend()\n",
    "            \n",
    "            plt.show()\n",
    "\n",
    "        \n",
    "    return epoch_loss / len(iterator)"
   ]
  },
  {
   "cell_type": "code",
   "execution_count": 19,
   "metadata": {},
   "outputs": [],
   "source": [
    "def evaluate(model, iterator, criterion):\n",
    "    \n",
    "    model.eval()\n",
    "    \n",
    "    epoch_loss = 0\n",
    "    \n",
    "    history = []\n",
    "    \n",
    "    with torch.no_grad():\n",
    "    \n",
    "        for i, batch in enumerate(iterator):\n",
    "\n",
    "            src = batch.src\n",
    "            trg = batch.trg\n",
    "\n",
    "            output = model(src, trg, 0) #turn off teacher forcing\n",
    "\n",
    "            #trg = [trg sent len, batch size]\n",
    "            #output = [trg sent len, batch size, output dim]\n",
    "\n",
    "            output = output[1:].view(-1, output.shape[-1])\n",
    "            trg = trg[1:].view(-1)\n",
    "\n",
    "            #trg = [(trg sent len - 1) * batch size]\n",
    "            #output = [(trg sent len - 1) * batch size, output dim]\n",
    "\n",
    "            loss = criterion(output, trg)\n",
    "            \n",
    "            epoch_loss += loss.item()\n",
    "        \n",
    "    return epoch_loss / len(iterator)"
   ]
  },
  {
   "cell_type": "code",
   "execution_count": 20,
   "metadata": {},
   "outputs": [],
   "source": [
    "def epoch_time(start_time, end_time):\n",
    "    elapsed_time = end_time - start_time\n",
    "    elapsed_mins = elapsed_time / 60\n",
    "    return elapsed_mins, elapsed_time"
   ]
  },
  {
   "cell_type": "code",
   "execution_count": 19,
   "metadata": {},
   "outputs": [],
   "source": [
    "train_history_RNN_Attention = []\n",
    "valid_history_RNN_Attention = []\n",
    "epoch_secs_history_RNN_Attention = []\n",
    "\n",
    "N_EPOCHS = 15\n",
    "CLIP = 1\n",
    "\n",
    "best_valid_loss = float('inf')"
   ]
  },
  {
   "cell_type": "code",
   "execution_count": 20,
   "metadata": {
    "scrolled": false
   },
   "outputs": [
    {
     "data": {
      "image/png": "[encoded data removed]",
      "text/plain": [
       "<Figure size 864x576 with 2 Axes>"
      ]
     },
     "metadata": {
      "needs_background": "light"
     },
     "output_type": "display_data"
    },
    {
     "name": "stdout",
     "output_type": "stream",
     "text": [
      "Epoch: 15 | Time: 4.695097875595093m 281.70587253570557s\n",
      "\tTrain Loss: 1.319 | Train PPL:   3.739\n",
      "\t Val. Loss: 4.331 |  Val. PPL:  76.007\n"
     ]
    }
   ],
   "source": [
    "for epoch in range(N_EPOCHS):\n",
    "    \n",
    "    start_time = time.time()\n",
    "    train_loss = train(model_rnn_attention, train_iterator, optimizer, criterion, CLIP, train_history_RNN_Attention, valid_history_RNN_Attention)\n",
    "    end_time = time.time()\n",
    "    epoch_mins, epoch_secs = epoch_time(start_time, end_time)\n",
    "    \n",
    "    valid_loss = evaluate(model_rnn_attention, valid_iterator, criterion)\n",
    "    scheduler.step(valid_loss)\n",
    "    \n",
    "    if valid_loss < best_valid_loss:\n",
    "        best_valid_loss = valid_loss\n",
    "        torch.save(model_rnn_attention.state_dict(), 'tut-model-RNN_Attention.pt')\n",
    "    \n",
    "    train_history_RNN_Attention.append(train_loss)\n",
    "    valid_history_RNN_Attention.append(valid_loss)\n",
    "    epoch_secs_history_RNN_Attention.append(epoch_secs)\n",
    "    print(f'Epoch: {epoch+1:02} | Time: {epoch_mins}m {epoch_secs}s')\n",
    "    print(f'\\tTrain Loss: {train_loss:.3f} | Train PPL: {math.exp(train_loss):7.3f}')\n",
    "    print(f'\\t Val. Loss: {valid_loss:.3f} |  Val. PPL: {math.exp(valid_loss):7.3f}')"
   ]
  },
  {
   "cell_type": "code",
   "execution_count": 21,
   "metadata": {},
   "outputs": [
    {
     "name": "stdout",
     "output_type": "stream",
     "text": [
      "Среднее время одной эпохи в секундах: 279.722017065684 seconds\n",
      "Среднее время одной эпохи в минутах: 4.6620336177613995 minutes\n",
      "Количество пар использованных примеров: 600960\n"
     ]
    }
   ],
   "source": [
    "# скорость обучения модели (с точки зрения затраченного времени)\n",
    "average_epoch_secs_history_RNN_Attention = np.mean(epoch_secs_history_RNN_Attention)\n",
    "print(f\"Среднее время одной эпохи в секундах: {average_epoch_secs_history_RNN_Attention} seconds\")\n",
    "print(f\"Среднее время одной эпохи в минутах: {average_epoch_secs_history_RNN_Attention / 60} minutes\")\n",
    "\n",
    "# количество пар использованных примеров (число эпох * число обработанных батчей за одну эпоху * размер батча) \n",
    "num_pairs_examples_used_RNN_Attention = N_EPOCHS * len(train_iterator) * BATCH_SIZE\n",
    "print(f\"Количество пар использованных примеров: {num_pairs_examples_used_RNN_Attention}\")"
   ]
  },
  {
   "cell_type": "markdown",
   "metadata": {},
   "source": [
    "__Let's take a look at our network quality__:"
   ]
  },
  {
   "cell_type": "code",
   "execution_count": 22,
   "metadata": {},
   "outputs": [],
   "source": [
    "from nltk.translate.bleu_score import corpus_bleu\n",
    "\n",
    "import utils\n",
    "import imp\n",
    "imp.reload(utils)\n",
    "generate_translation = utils.generate_translation\n",
    "remove_tech_tokens = utils.remove_tech_tokens\n",
    "get_text = utils.get_text\n",
    "flatten = utils.flatten"
   ]
  },
  {
   "cell_type": "code",
   "execution_count": 23,
   "metadata": {},
   "outputs": [],
   "source": [
    "original_text = []\n",
    "generated_text = []\n",
    "eval_secs_history_RNN_Attention = []\n",
    "model_rnn_attention.eval()\n",
    "with torch.no_grad():\n",
    "\n",
    "    for i, batch in enumerate(test_iterator):\n",
    "\n",
    "        src = batch.src\n",
    "        trg = batch.trg\n",
    "        \n",
    "        start_time = time.time()\n",
    "        output = model_rnn_attention(src, trg, 0) #turn off teacher forcing\n",
    "        end_time = time.time()\n",
    "        \n",
    "        epoch_mins, epoch_secs = epoch_time(start_time, end_time)\n",
    "        eval_secs_history_RNN_Attention.append(epoch_secs)\n",
    "        \n",
    "        #trg = [trg sent len, batch size]\n",
    "        #output = [trg sent len, batch size, output dim]\n",
    "\n",
    "        output = output.argmax(dim=-1)\n",
    "        \n",
    "        original_text.extend([get_text(x, TRG.vocab) for x in trg.cpu().numpy().T])\n",
    "        generated_text.extend([get_text(x, TRG.vocab) for x in output[1:].detach().cpu().numpy().T])"
   ]
  },
  {
   "cell_type": "code",
   "execution_count": 24,
   "metadata": {},
   "outputs": [
    {
     "name": "stdout",
     "output_type": "stream",
     "text": [
      "Cкорость применения модели в режиме inference в пересчете на один батч размером 32: 0.018566556906296036 seconds\n",
      "BLEU for this model: 34.05330028261969\n"
     ]
    }
   ],
   "source": [
    "#  скорость применения модели в режиме inference в пересчете на один батч размером 32 (если размер батча необходимо уменьшить, например, до 16, то умножьте усредненный результат на 32/16 = 2)\n",
    "eval_secs_history_RNN_Attention_32 = np.mean(eval_secs_history_RNN_Attention) * (32 / BATCH_SIZE)\n",
    "print(f\"Cкорость применения модели в режиме inference в пересчете на один батч размером 32: {eval_secs_history_RNN_Attention_32} seconds\")\n",
    "\n",
    "bleu_RNN_Attention = corpus_bleu([[text] for text in original_text], generated_text) * 100\n",
    "print(f\"BLEU for this model: {bleu_RNN_Attention}\")"
   ]
  },
  {
   "cell_type": "markdown",
   "metadata": {},
   "source": [
    "__На самом деле, перевод получился довольно хороший, поэтому найти пример плохого перевода было достаточно сложно)__"
   ]
  },
  {
   "cell_type": "code",
   "execution_count": 33,
   "metadata": {},
   "outputs": [],
   "source": [
    "def print_translation(original_text, generated_text):\n",
    "    orig = \" \".join(original_text)\n",
    "    gen = \" \".join(generated_text)\n",
    "    print(f\"Оригинальный текст: {orig}\\nСгенерированный текст: {gen}\\n\")"
   ]
  },
  {
   "cell_type": "code",
   "execution_count": 27,
   "metadata": {},
   "outputs": [
    {
     "name": "stdout",
     "output_type": "stream",
     "text": [
      "Пример плохого перевода:\n",
      "Оригинальный текст: offers fully furnished apartments and studios located on boulevard along the coast .\n",
      "Сгенерированный текст: is located on the of coast in the .\n",
      "\n",
      "Оригинальный текст: if you feel like visiting the surroundings , is in 2 . 3 km and in 2 . 6 km .\n",
      "Сгенерированный текст: the property is 2 . 3 km from ski lift and 2 . 6 km from ski lift .\n",
      "\n",
      "Пример хорошего перевода:\n",
      "Оригинальный текст: free private parking is provided .\n",
      "Сгенерированный текст: private parking is available on site .\n",
      "\n",
      "Оригинальный текст: the shops and restaurants of town centre are 1 km from the motel .\n",
      "Сгенерированный текст: the town centre with its shops and restaurants , 1 km away from the motel .\n",
      "\n"
     ]
    }
   ],
   "source": [
    "print(\"Пример плохого перевода:\")\n",
    "print_translation(original_text[4340], generated_text[4340])\n",
    "print_translation(original_text[6521], generated_text[6521])\n",
    "\n",
    "print(\"Пример хорошего перевода:\")\n",
    "print_translation(original_text[555], generated_text[555])\n",
    "print_translation(original_text[3458], generated_text[3458])"
   ]
  },
  {
   "cell_type": "markdown",
   "metadata": {},
   "source": [
    "### Model 2 - CNN Encoder\n",
    "__В данной модели в качестве энкодера выступает сверточная нейронная сеть (CNN) с Positional Encoding, в качестве декодера - однослойная GRU.__ \n",
    "\n",
    "__В энкодере используется 3 сверточных слоя с различным размером ядра (2, 3, 4) + ReLu, которые применяются к закодированному инпуту, выходы сверток конкатенируются и к результату применяется AdaptiveMaxPooll для уменьшешения количества каналов и последующей подачи в декодер.__"
   ]
  },
  {
   "cell_type": "code",
   "execution_count": 28,
   "metadata": {},
   "outputs": [],
   "source": [
    "import my_network_norm_CNN_Encoder\n",
    "Encoder = my_network_norm_CNN_Encoder.Encoder\n",
    "Decoder = my_network_norm_CNN_Encoder.Decoder\n",
    "Seq2Seq = my_network_norm_CNN_Encoder.Seq2Seq"
   ]
  },
  {
   "cell_type": "code",
   "execution_count": 29,
   "metadata": {},
   "outputs": [
    {
     "name": "stderr",
     "output_type": "stream",
     "text": [
      "/home/ubuntu/anaconda3/lib/python3.8/site-packages/torch/nn/modules/rnn.py:60: UserWarning: dropout option adds dropout after all but last recurrent layer, so non-zero dropout expects num_layers greater than 1, but got dropout=0.2 and num_layers=1\n",
      "  warnings.warn(\"dropout option adds dropout after all but last \"\n"
     ]
    }
   ],
   "source": [
    "INPUT_DIM = len(SRC.vocab)\n",
    "OUTPUT_DIM = len(TRG.vocab)\n",
    "ENC_EMB_DIM = 256\n",
    "DEC_EMB_DIM = 256\n",
    "HID_DIM = 512\n",
    "N_LAYERS = 1\n",
    "ENC_DROPOUT = 0.2\n",
    "DEC_DROPOUT = 0.2\n",
    "\n",
    "enc = Encoder(INPUT_DIM, ENC_EMB_DIM, HID_DIM, ENC_DROPOUT)\n",
    "dec = Decoder(OUTPUT_DIM, DEC_EMB_DIM, HID_DIM, N_LAYERS, DEC_DROPOUT)\n",
    "\n",
    "# dont forget to put the model to the right device\n",
    "model_cnn_encoder = Seq2Seq(enc, dec, device).to(device)"
   ]
  },
  {
   "cell_type": "code",
   "execution_count": 30,
   "metadata": {},
   "outputs": [
    {
     "data": {
      "text/plain": [
       "Seq2Seq(\n",
       "  (encoder): Encoder(\n",
       "    (pos_encoder): PositionalEncoding(\n",
       "      (dropout): Dropout(p=0.2, inplace=False)\n",
       "    )\n",
       "    (embedding): Embedding(9250, 256)\n",
       "    (cnn1): Conv1d(256, 512, kernel_size=(2,), stride=(1,))\n",
       "    (cnn2): Conv1d(256, 512, kernel_size=(3,), stride=(1,))\n",
       "    (cnn3): Conv1d(256, 512, kernel_size=(4,), stride=(1,))\n",
       "    (dropout): Dropout(p=0.2, inplace=False)\n",
       "    (relu): ReLU()\n",
       "    (pool): AdaptiveMaxPool1d(output_size=1)\n",
       "  )\n",
       "  (decoder): Decoder(\n",
       "    (embedding): Embedding(6736, 256)\n",
       "    (rnn): GRU(256, 512, dropout=0.2)\n",
       "    (out): Linear(in_features=512, out_features=6736, bias=True)\n",
       "    (dropout): Dropout(p=0.2, inplace=False)\n",
       "  )\n",
       ")"
      ]
     },
     "execution_count": 30,
     "metadata": {},
     "output_type": "execute_result"
    }
   ],
   "source": [
    "model_cnn_encoder.apply(init_weights)"
   ]
  },
  {
   "cell_type": "code",
   "execution_count": 31,
   "metadata": {},
   "outputs": [
    {
     "name": "stdout",
     "output_type": "stream",
     "text": [
      "The model has 9,911,888 trainable parameters\n"
     ]
    }
   ],
   "source": [
    "print(f'The model has {count_parameters(model_cnn_encoder):,} trainable parameters')"
   ]
  },
  {
   "cell_type": "code",
   "execution_count": 32,
   "metadata": {},
   "outputs": [],
   "source": [
    "PAD_IDX = TRG.vocab.stoi['<pad>']\n",
    "optimizer = optim.Adam(model_cnn_encoder.parameters())\n",
    "criterion = nn.CrossEntropyLoss(ignore_index = PAD_IDX)\n",
    "scheduler = optim.lr_scheduler.ReduceLROnPlateau(optimizer, patience=2)"
   ]
  },
  {
   "cell_type": "code",
   "execution_count": 33,
   "metadata": {},
   "outputs": [],
   "source": [
    "train_history_CNN_Encoder = []\n",
    "valid_history_CNN_Encoder = []\n",
    "epoch_secs_history_CNN_Encoder = []\n",
    "\n",
    "N_EPOCHS = 15\n",
    "CLIP = 1\n",
    "\n",
    "best_valid_loss = float('inf')"
   ]
  },
  {
   "cell_type": "code",
   "execution_count": 34,
   "metadata": {},
   "outputs": [
    {
     "data": {
      "image/png": "[encoded data removed]",
      "text/plain": [
       "<Figure size 864x576 with 2 Axes>"
      ]
     },
     "metadata": {
      "needs_background": "light"
     },
     "output_type": "display_data"
    },
    {
     "name": "stdout",
     "output_type": "stream",
     "text": [
      "88.2609350681305\n",
      "Epoch: 15 | Time: 1.4710155844688415m 88.2609350681305s\n",
      "\tTrain Loss: 1.949 | Train PPL:   7.020\n",
      "\t Val. Loss: 4.401 |  Val. PPL:  81.550\n"
     ]
    }
   ],
   "source": [
    "for epoch in range(N_EPOCHS):\n",
    "    \n",
    "    start_time = time.time()\n",
    "    train_loss = train(model_cnn_encoder, train_iterator, optimizer, criterion, CLIP, train_history_CNN_Encoder, valid_history_CNN_Encoder)\n",
    "    end_time = time.time()\n",
    "    epoch_mins, epoch_secs = epoch_time(start_time, end_time)\n",
    "    print(epoch_secs)\n",
    "    \n",
    "    valid_loss = evaluate(model_cnn_encoder, valid_iterator, criterion)\n",
    "    scheduler.step(valid_loss)\n",
    "    \n",
    "    if valid_loss < best_valid_loss:\n",
    "        best_valid_loss = valid_loss\n",
    "        torch.save(model_cnn_encoder.state_dict(), 'tut-model-CNN_Encoder.pt')\n",
    "    \n",
    "    train_history_CNN_Encoder.append(train_loss)\n",
    "    valid_history_CNN_Encoder.append(valid_loss)\n",
    "    epoch_secs_history_CNN_Encoder.append(epoch_secs)\n",
    "    print(f'Epoch: {epoch+1:02} | Time: {epoch_mins}m {epoch_secs}s')\n",
    "    print(f'\\tTrain Loss: {train_loss:.3f} | Train PPL: {math.exp(train_loss):7.3f}')\n",
    "    print(f'\\t Val. Loss: {valid_loss:.3f} |  Val. PPL: {math.exp(valid_loss):7.3f}')"
   ]
  },
  {
   "cell_type": "code",
   "execution_count": 35,
   "metadata": {},
   "outputs": [
    {
     "name": "stdout",
     "output_type": "stream",
     "text": [
      "Среднее время одной эпохи в секундах: 88.66688899993896 seconds\n",
      "Среднее время одной эпохи в минутах: 1.477781483332316 minutes\n",
      "Количество пар использованных примеров: 600960\n"
     ]
    }
   ],
   "source": [
    "# скорость обучения модели (с точки зрения затраченного времени)\n",
    "average_epoch_secs_history_CNN_Encoder = np.mean(epoch_secs_history_CNN_Encoder)\n",
    "print(f\"Среднее время одной эпохи в секундах: {average_epoch_secs_history_CNN_Encoder} seconds\")\n",
    "print(f\"Среднее время одной эпохи в минутах: {average_epoch_secs_history_CNN_Encoder / 60} minutes\")\n",
    "\n",
    "# количество пар использованных примеров (число эпох * число обработанных батчей за одну эпоху * размер батча) \n",
    "num_pairs_examples_used_CNN_Encoder = N_EPOCHS * len(train_iterator) * BATCH_SIZE\n",
    "print(f\"Количество пар использованных примеров: {num_pairs_examples_used_CNN_Encoder}\")"
   ]
  },
  {
   "cell_type": "markdown",
   "metadata": {},
   "source": [
    "__Let's take a look at our network quality__:"
   ]
  },
  {
   "cell_type": "code",
   "execution_count": 36,
   "metadata": {},
   "outputs": [],
   "source": [
    "imp.reload(utils)\n",
    "generate_translation = utils.generate_translation\n",
    "remove_tech_tokens = utils.remove_tech_tokens\n",
    "get_text = utils.get_text\n",
    "flatten = utils.flatten"
   ]
  },
  {
   "cell_type": "code",
   "execution_count": 37,
   "metadata": {},
   "outputs": [],
   "source": [
    "original_text = []\n",
    "generated_text = []\n",
    "eval_secs_history_CNN_Encoder = []\n",
    "model_cnn_encoder.eval()\n",
    "with torch.no_grad():\n",
    "\n",
    "    for i, batch in enumerate(test_iterator):\n",
    "\n",
    "        src = batch.src\n",
    "        trg = batch.trg\n",
    "        \n",
    "        start_time = time.time()\n",
    "        output = model_cnn_encoder(src, trg, 0) #turn off teacher forcing\n",
    "        end_time = time.time()\n",
    "        \n",
    "        epoch_mins, epoch_secs = epoch_time(start_time, end_time)\n",
    "        eval_secs_history_CNN_Encoder.append(epoch_secs)\n",
    "        \n",
    "        #trg = [trg sent len, batch size]\n",
    "        #output = [trg sent len, batch size, output dim]\n",
    "\n",
    "        output = output.argmax(dim=-1)\n",
    "        \n",
    "        original_text.extend([get_text(x, TRG.vocab) for x in trg.cpu().numpy().T])\n",
    "        generated_text.extend([get_text(x, TRG.vocab) for x in output[1:].detach().cpu().numpy().T])"
   ]
  },
  {
   "cell_type": "code",
   "execution_count": 38,
   "metadata": {},
   "outputs": [
    {
     "name": "stdout",
     "output_type": "stream",
     "text": [
      "Cкорость применения модели в режиме inference в пересчете на один батч размером 32: 0.016071048833556093 seconds\n",
      "BLEU for this model: 24.549164524279465\n"
     ]
    }
   ],
   "source": [
    "#  скорость применения модели в режиме inference в пересчете на один батч размером 32 (если размер батча необходимо уменьшить, например, до 16, то умножьте усредненный результат на 32/16 = 2)\n",
    "eval_secs_history_CNN_Encoder_32 = np.mean(eval_secs_history_CNN_Encoder) * (32 / BATCH_SIZE)\n",
    "print(f\"Cкорость применения модели в режиме inference в пересчете на один батч размером 32: {eval_secs_history_CNN_Encoder_32} seconds\")\n",
    "\n",
    "bleu_CNN_Encoder = corpus_bleu([[text] for text in original_text], generated_text) * 100\n",
    "print(f\"BLEU for this model: {bleu_CNN_Encoder}\")"
   ]
  },
  {
   "cell_type": "code",
   "execution_count": 41,
   "metadata": {},
   "outputs": [
    {
     "name": "stdout",
     "output_type": "stream",
     "text": [
      "Пример плохого перевода:\n",
      "Оригинальный текст: everything kitzbühel has to offer is within easy walking distance from hotel zur .\n",
      "Сгенерированный текст: all .\n",
      "\n",
      "Оригинальный текст: market is just 100 metres away .\n",
      "Сгенерированный текст: is only 100 metres away from the .\n",
      "\n",
      "Пример хорошего перевода:\n",
      "Оригинальный текст: the property offers free parking .\n",
      "Сгенерированный текст: free parking is available .\n",
      "\n",
      "Оригинальный текст: the bathrooms have a shower cabin .\n",
      "Сгенерированный текст: the bathroom comes with a shower .\n",
      "\n"
     ]
    }
   ],
   "source": [
    "print(\"Пример плохого перевода:\")\n",
    "print_translation(original_text[4797], generated_text[4797])\n",
    "print_translation(original_text[3240], generated_text[3240])\n",
    "\n",
    "print(\"Пример хорошего перевода:\")\n",
    "print_translation(original_text[0], generated_text[0])\n",
    "print_translation(original_text[65], generated_text[65])"
   ]
  },
  {
   "cell_type": "markdown",
   "metadata": {},
   "source": [
    "### Model 3 - Transformer\n",
    "__В данной модели реализован transformer из статьи `Attention is all you need` с небольшой доработкой из [данного](https://github.com/bentrevett/pytorch-seq2seq/blob/master/6%20-%20Attention%20is%20All%20You%20Need.ipynb) ноутбука: в качестве positional encoding обучен `nn.Embedding` слой, потому что vanilla positional encoding через синусы и косинусы дал не лучший результат. В качестве энкодера и декодера выступает `nn.TransformerEncoder` и `nn.TransformerDecoder`.__\n"
   ]
  },
  {
   "cell_type": "code",
   "execution_count": 42,
   "metadata": {},
   "outputs": [],
   "source": [
    "import my_network_norm_Transformer\n",
    "Encoder = my_network_norm_Transformer.Encoder\n",
    "Decoder = my_network_norm_Transformer.Decoder\n",
    "Seq2Seq = my_network_norm_Transformer.Seq2Seq"
   ]
  },
  {
   "cell_type": "code",
   "execution_count": 43,
   "metadata": {},
   "outputs": [],
   "source": [
    "INPUT_DIM = len(SRC.vocab)\n",
    "OUTPUT_DIM = len(TRG.vocab)\n",
    "HID_DIM = 512\n",
    "N_HEAD = 8\n",
    "NUM_LAYERS = 3\n",
    "DIM_FEEDFORWARD = 2048\n",
    "DROPOUT = 0.1\n",
    "\n",
    "encoder = Encoder(\n",
    "    src_input_dim=INPUT_DIM, \n",
    "    d_model=HID_DIM, \n",
    "    nhead=N_HEAD, \n",
    "    num_encoder_layers=NUM_LAYERS, \n",
    "    dim_feedforward=DIM_FEEDFORWARD, \n",
    "    dropout=DROPOUT, \n",
    "    device=device,\n",
    "    src_pad_index=SRC.vocab.stoi[\"<pad>\"],\n",
    ")\n",
    "decoder = Decoder(\n",
    "    trg_input_dim=OUTPUT_DIM,\n",
    "    output_dim=OUTPUT_DIM,\n",
    "    d_model=HID_DIM,\n",
    "    nhead=N_HEAD, \n",
    "    num_decoder_layers=NUM_LAYERS, \n",
    "    dim_feedforward=DIM_FEEDFORWARD, \n",
    "    dropout=DROPOUT, \n",
    "    device=device,\n",
    "    src_pad_index=SRC.vocab.stoi[\"<pad>\"],\n",
    "    trg_pad_index=TRG.vocab.stoi[\"<pad>\"],\n",
    ")\n",
    "model_transformer = Seq2Seq(encoder, decoder).to(device)"
   ]
  },
  {
   "cell_type": "code",
   "execution_count": 44,
   "metadata": {},
   "outputs": [
    {
     "data": {
      "text/plain": [
       "Seq2Seq(\n",
       "  (encoder): Encoder(\n",
       "    (src_embedding): Embedding(9250, 512)\n",
       "    (src_pos_encoder): Embedding(100, 512)\n",
       "    (transformer_encoder): TransformerEncoder(\n",
       "      (layers): ModuleList(\n",
       "        (0): TransformerEncoderLayer(\n",
       "          (self_attn): MultiheadAttention(\n",
       "            (out_proj): _LinearWithBias(in_features=512, out_features=512, bias=True)\n",
       "          )\n",
       "          (linear1): Linear(in_features=512, out_features=2048, bias=True)\n",
       "          (dropout): Dropout(p=0.1, inplace=False)\n",
       "          (linear2): Linear(in_features=2048, out_features=512, bias=True)\n",
       "          (norm1): LayerNorm((512,), eps=1e-05, elementwise_affine=True)\n",
       "          (norm2): LayerNorm((512,), eps=1e-05, elementwise_affine=True)\n",
       "          (dropout1): Dropout(p=0.1, inplace=False)\n",
       "          (dropout2): Dropout(p=0.1, inplace=False)\n",
       "        )\n",
       "        (1): TransformerEncoderLayer(\n",
       "          (self_attn): MultiheadAttention(\n",
       "            (out_proj): _LinearWithBias(in_features=512, out_features=512, bias=True)\n",
       "          )\n",
       "          (linear1): Linear(in_features=512, out_features=2048, bias=True)\n",
       "          (dropout): Dropout(p=0.1, inplace=False)\n",
       "          (linear2): Linear(in_features=2048, out_features=512, bias=True)\n",
       "          (norm1): LayerNorm((512,), eps=1e-05, elementwise_affine=True)\n",
       "          (norm2): LayerNorm((512,), eps=1e-05, elementwise_affine=True)\n",
       "          (dropout1): Dropout(p=0.1, inplace=False)\n",
       "          (dropout2): Dropout(p=0.1, inplace=False)\n",
       "        )\n",
       "        (2): TransformerEncoderLayer(\n",
       "          (self_attn): MultiheadAttention(\n",
       "            (out_proj): _LinearWithBias(in_features=512, out_features=512, bias=True)\n",
       "          )\n",
       "          (linear1): Linear(in_features=512, out_features=2048, bias=True)\n",
       "          (dropout): Dropout(p=0.1, inplace=False)\n",
       "          (linear2): Linear(in_features=2048, out_features=512, bias=True)\n",
       "          (norm1): LayerNorm((512,), eps=1e-05, elementwise_affine=True)\n",
       "          (norm2): LayerNorm((512,), eps=1e-05, elementwise_affine=True)\n",
       "          (dropout1): Dropout(p=0.1, inplace=False)\n",
       "          (dropout2): Dropout(p=0.1, inplace=False)\n",
       "        )\n",
       "      )\n",
       "      (norm): LayerNorm((512,), eps=1e-05, elementwise_affine=True)\n",
       "    )\n",
       "    (dropout): Dropout(p=0.1, inplace=False)\n",
       "  )\n",
       "  (decoder): Decoder(\n",
       "    (trg_embedding): Embedding(6736, 512)\n",
       "    (trg_pos_decoder): Embedding(100, 512)\n",
       "    (transformer_decoder): TransformerDecoder(\n",
       "      (layers): ModuleList(\n",
       "        (0): TransformerDecoderLayer(\n",
       "          (self_attn): MultiheadAttention(\n",
       "            (out_proj): _LinearWithBias(in_features=512, out_features=512, bias=True)\n",
       "          )\n",
       "          (multihead_attn): MultiheadAttention(\n",
       "            (out_proj): _LinearWithBias(in_features=512, out_features=512, bias=True)\n",
       "          )\n",
       "          (linear1): Linear(in_features=512, out_features=2048, bias=True)\n",
       "          (dropout): Dropout(p=0.1, inplace=False)\n",
       "          (linear2): Linear(in_features=2048, out_features=512, bias=True)\n",
       "          (norm1): LayerNorm((512,), eps=1e-05, elementwise_affine=True)\n",
       "          (norm2): LayerNorm((512,), eps=1e-05, elementwise_affine=True)\n",
       "          (norm3): LayerNorm((512,), eps=1e-05, elementwise_affine=True)\n",
       "          (dropout1): Dropout(p=0.1, inplace=False)\n",
       "          (dropout2): Dropout(p=0.1, inplace=False)\n",
       "          (dropout3): Dropout(p=0.1, inplace=False)\n",
       "        )\n",
       "        (1): TransformerDecoderLayer(\n",
       "          (self_attn): MultiheadAttention(\n",
       "            (out_proj): _LinearWithBias(in_features=512, out_features=512, bias=True)\n",
       "          )\n",
       "          (multihead_attn): MultiheadAttention(\n",
       "            (out_proj): _LinearWithBias(in_features=512, out_features=512, bias=True)\n",
       "          )\n",
       "          (linear1): Linear(in_features=512, out_features=2048, bias=True)\n",
       "          (dropout): Dropout(p=0.1, inplace=False)\n",
       "          (linear2): Linear(in_features=2048, out_features=512, bias=True)\n",
       "          (norm1): LayerNorm((512,), eps=1e-05, elementwise_affine=True)\n",
       "          (norm2): LayerNorm((512,), eps=1e-05, elementwise_affine=True)\n",
       "          (norm3): LayerNorm((512,), eps=1e-05, elementwise_affine=True)\n",
       "          (dropout1): Dropout(p=0.1, inplace=False)\n",
       "          (dropout2): Dropout(p=0.1, inplace=False)\n",
       "          (dropout3): Dropout(p=0.1, inplace=False)\n",
       "        )\n",
       "        (2): TransformerDecoderLayer(\n",
       "          (self_attn): MultiheadAttention(\n",
       "            (out_proj): _LinearWithBias(in_features=512, out_features=512, bias=True)\n",
       "          )\n",
       "          (multihead_attn): MultiheadAttention(\n",
       "            (out_proj): _LinearWithBias(in_features=512, out_features=512, bias=True)\n",
       "          )\n",
       "          (linear1): Linear(in_features=512, out_features=2048, bias=True)\n",
       "          (dropout): Dropout(p=0.1, inplace=False)\n",
       "          (linear2): Linear(in_features=2048, out_features=512, bias=True)\n",
       "          (norm1): LayerNorm((512,), eps=1e-05, elementwise_affine=True)\n",
       "          (norm2): LayerNorm((512,), eps=1e-05, elementwise_affine=True)\n",
       "          (norm3): LayerNorm((512,), eps=1e-05, elementwise_affine=True)\n",
       "          (dropout1): Dropout(p=0.1, inplace=False)\n",
       "          (dropout2): Dropout(p=0.1, inplace=False)\n",
       "          (dropout3): Dropout(p=0.1, inplace=False)\n",
       "        )\n",
       "      )\n",
       "      (norm): LayerNorm((512,), eps=1e-05, elementwise_affine=True)\n",
       "    )\n",
       "    (output_layer): Linear(in_features=512, out_features=6736, bias=True)\n",
       "    (dropout): Dropout(p=0.1, inplace=False)\n",
       "  )\n",
       ")"
      ]
     },
     "execution_count": 44,
     "metadata": {},
     "output_type": "execute_result"
    }
   ],
   "source": [
    "def initialize_weights(m):\n",
    "    if hasattr(m, 'weight') and m.weight.dim() > 1:\n",
    "        nn.init.xavier_uniform_(m.weight.data)\n",
    "\n",
    "model_transformer.apply(initialize_weights)"
   ]
  },
  {
   "cell_type": "code",
   "execution_count": 45,
   "metadata": {},
   "outputs": [
    {
     "name": "stdout",
     "output_type": "stream",
     "text": [
      "The model has 33,814,096 trainable parameters\n"
     ]
    }
   ],
   "source": [
    "def count_parameters(model):\n",
    "    return sum(p.numel() for p in model.parameters() if p.requires_grad)\n",
    "\n",
    "print(f'The model has {count_parameters(model_transformer):,} trainable parameters')"
   ]
  },
  {
   "cell_type": "code",
   "execution_count": 46,
   "metadata": {},
   "outputs": [],
   "source": [
    "PAD_IDX = TRG.vocab.stoi['<pad>']\n",
    "optimizer = optim.Adam(model_transformer.parameters(), lr=0.0001)\n",
    "criterion = nn.CrossEntropyLoss(ignore_index = PAD_IDX)\n",
    "scheduler = optim.lr_scheduler.ReduceLROnPlateau(optimizer, patience=2)"
   ]
  },
  {
   "cell_type": "code",
   "execution_count": 47,
   "metadata": {},
   "outputs": [],
   "source": [
    "def train_transformer(model, iterator, optimizer, criterion, clip, train_history=None, valid_history=None):\n",
    "    model.train()\n",
    "    \n",
    "    epoch_loss = 0\n",
    "    history = []\n",
    "    for i, batch in enumerate(iterator):\n",
    "        \n",
    "        src = batch.src\n",
    "        trg = batch.trg\n",
    "        \n",
    "        optimizer.zero_grad()\n",
    "        \n",
    "        output = model(src, trg[:-1, :])\n",
    "        \n",
    "        # trg = [trg sent len, batch size]\n",
    "        # output = [trg sent len, batch size, output dim]\n",
    "\n",
    "        output = output.contiguous().view(-1, output.shape[-1])\n",
    "        trg = trg[1:, :].contiguous().view(-1)\n",
    "        \n",
    "        # trg = [(trg sent len - 1) * batch size]\n",
    "        # output = [(trg sent len - 1) * batch size, output dim]\n",
    "        \n",
    "        loss = criterion(output, trg)\n",
    "        \n",
    "        loss.backward()\n",
    "        \n",
    "        # Let's clip the gradient\n",
    "        torch.nn.utils.clip_grad_norm_(model.parameters(), clip)\n",
    "        \n",
    "        optimizer.step()\n",
    "        \n",
    "        epoch_loss += loss.item()\n",
    "        \n",
    "        history.append(loss.cpu().data.numpy())\n",
    "        if (i + 1) % 10 == 0:\n",
    "            fig, ax = plt.subplots(nrows=1, ncols=2, figsize=(12, 8))\n",
    "\n",
    "            clear_output(True)\n",
    "            ax[0].plot(history, label='train loss')\n",
    "            ax[0].set_xlabel('Batch')\n",
    "            ax[0].set_title('Train loss')\n",
    "            if train_history is not None:\n",
    "                ax[1].plot(train_history, label='general train history')\n",
    "                ax[1].set_xlabel('Epoch')\n",
    "            if valid_history is not None:\n",
    "                ax[1].plot(valid_history, label='general valid history')\n",
    "            plt.legend()\n",
    "            \n",
    "            plt.show()\n",
    "\n",
    "        \n",
    "    return epoch_loss / len(iterator)"
   ]
  },
  {
   "cell_type": "code",
   "execution_count": 48,
   "metadata": {},
   "outputs": [],
   "source": [
    "def evaluate_transformer(model, iterator, criterion):\n",
    "    \n",
    "    model.eval()\n",
    "    \n",
    "    epoch_loss = 0\n",
    "    \n",
    "    history = []\n",
    "    \n",
    "    with torch.no_grad():\n",
    "    \n",
    "        for i, batch in enumerate(iterator):\n",
    "\n",
    "            src = batch.src\n",
    "            trg = batch.trg\n",
    "\n",
    "            output = model(src, trg[:-1, :]) #turn off teacher forcing\n",
    "\n",
    "            #trg = [trg sent len, batch size]\n",
    "            #output = [trg sent len, batch size, output dim]\n",
    "\n",
    "            output = output.view(-1, output.shape[-1])\n",
    "            trg = trg[1:, :].view(-1)\n",
    "\n",
    "            #trg = [(trg sent len - 1) * batch size]\n",
    "            #output = [(trg sent len - 1) * batch size, output dim]\n",
    "\n",
    "            loss = criterion(output, trg)\n",
    "            \n",
    "            epoch_loss += loss.item()\n",
    "        \n",
    "    return epoch_loss / len(iterator)"
   ]
  },
  {
   "cell_type": "code",
   "execution_count": 49,
   "metadata": {},
   "outputs": [],
   "source": [
    "train_history_transformer = []\n",
    "valid_history_transformer = []\n",
    "epoch_secs_history_transformer = []\n",
    "\n",
    "N_EPOCHS = 15\n",
    "CLIP = 1\n",
    "\n",
    "best_valid_loss = float('inf')"
   ]
  },
  {
   "cell_type": "code",
   "execution_count": 50,
   "metadata": {
    "scrolled": false
   },
   "outputs": [
    {
     "data": {
      "image/png": "[encoded data removed]",
      "text/plain": [
       "<Figure size 864x576 with 2 Axes>"
      ]
     },
     "metadata": {
      "needs_background": "light"
     },
     "output_type": "display_data"
    },
    {
     "name": "stdout",
     "output_type": "stream",
     "text": [
      "Epoch: 15 | Time: 1.9132716139157613m 114.79629683494568s\n",
      "\tTrain Loss: 0.833 | Train PPL:   2.300\n",
      "\t Val. Loss: 1.592 |  Val. PPL:   4.916\n"
     ]
    }
   ],
   "source": [
    "for epoch in range(N_EPOCHS):\n",
    "    \n",
    "    start_time = time.time()\n",
    "    train_loss = train_transformer(model_transformer, train_iterator, optimizer, criterion, CLIP, train_history_transformer, valid_history_transformer)\n",
    "    end_time = time.time()\n",
    "    valid_loss = evaluate_transformer(model_transformer, valid_iterator, criterion)\n",
    "    scheduler.step(valid_loss)\n",
    "    \n",
    "    epoch_mins, epoch_secs = epoch_time(start_time, end_time)\n",
    "    \n",
    "    if valid_loss < best_valid_loss:\n",
    "        best_valid_loss = valid_loss\n",
    "        torch.save(model_transformer.state_dict(), f'tut-model_transformer.pt')\n",
    "    \n",
    "    train_history_transformer.append(train_loss)\n",
    "    valid_history_transformer.append(valid_loss)\n",
    "    epoch_secs_history_transformer.append(epoch_secs)\n",
    "    print(f'Epoch: {epoch+1:02} | Time: {epoch_mins}m {epoch_secs}s')\n",
    "    print(f'\\tTrain Loss: {train_loss:.3f} | Train PPL: {math.exp(train_loss):7.3f}')\n",
    "    print(f'\\t Val. Loss: {valid_loss:.3f} |  Val. PPL: {math.exp(valid_loss):7.3f}')"
   ]
  },
  {
   "cell_type": "code",
   "execution_count": 51,
   "metadata": {},
   "outputs": [
    {
     "name": "stdout",
     "output_type": "stream",
     "text": [
      "Среднее время одной эпохи в секундах: 114.25503374735514 seconds\n",
      "Среднее время одной эпохи в минутах: 1.904250562455919 minutes\n",
      "Количество пар использованных примеров: 600960\n"
     ]
    }
   ],
   "source": [
    "# скорость обучения модели (с точки зрения затраченного времени)\n",
    "average_epoch_secs_history_transformer = np.mean(epoch_secs_history_transformer)\n",
    "print(f\"Среднее время одной эпохи в секундах: {average_epoch_secs_history_transformer} seconds\")\n",
    "print(f\"Среднее время одной эпохи в минутах: {average_epoch_secs_history_transformer / 60} minutes\")\n",
    "\n",
    "# количество пар использованных примеров (число эпох * число обработанных батчей за одну эпоху * размер батча) \n",
    "num_pairs_examples_used_transformer = N_EPOCHS * len(train_iterator) * BATCH_SIZE\n",
    "print(f\"Количество пар использованных примеров: {num_pairs_examples_used_transformer}\")"
   ]
  },
  {
   "cell_type": "markdown",
   "metadata": {},
   "source": [
    "__Let's take a look at our network quality__:"
   ]
  },
  {
   "cell_type": "code",
   "execution_count": 52,
   "metadata": {},
   "outputs": [],
   "source": [
    "from nltk.translate.bleu_score import corpus_bleu\n",
    "\n",
    "import utils\n",
    "import imp\n",
    "\n",
    "imp.reload(utils)\n",
    "generate_translation = utils.generate_translation\n",
    "remove_tech_tokens = utils.remove_tech_tokens\n",
    "get_text = utils.get_text\n",
    "flatten = utils.flatten"
   ]
  },
  {
   "cell_type": "code",
   "execution_count": 53,
   "metadata": {},
   "outputs": [],
   "source": [
    "def translate_sentence(model, sentence, src_vocab, trg_vocab, device, max_len=100):\n",
    "    model.eval()\n",
    "    with torch.no_grad():\n",
    "        \n",
    "        src_enc = model.encoder(sentence)\n",
    "        # src_enc = [src_len, 1, hid_dim]\n",
    "        \n",
    "        trg = [trg_vocab.stoi[\"<sos>\"]]\n",
    "        \n",
    "        for _ in range(max_len):\n",
    "            output = model.decoder(\n",
    "                sentence, \n",
    "                src_enc, \n",
    "                torch.tensor(trg).unsqueeze(1).to(device),\n",
    "            )\n",
    "            # output = [tgt len, 1, tgt_vocab]\n",
    "            output_idx = output.argmax(dim=-1)[-1, :].item()\n",
    "            \n",
    "            trg.append(output_idx)\n",
    "            if output_idx == trg_vocab.stoi[\"<eos>\"]:\n",
    "                break\n",
    "            \n",
    "        return trg[1:]"
   ]
  },
  {
   "cell_type": "code",
   "execution_count": 54,
   "metadata": {},
   "outputs": [],
   "source": [
    "original_text = []\n",
    "generated_text = []\n",
    "eval_secs_history_transformer = []\n",
    "model_transformer.eval()\n",
    "with torch.no_grad():\n",
    "\n",
    "    for i, batch in enumerate(test_iterator):\n",
    "\n",
    "        batch_src = batch.src.permute(1, 0)\n",
    "        batch_trg = batch.trg.permute(1, 0)\n",
    "        \n",
    "        for src, trg in zip(batch_src, batch_trg):\n",
    "            src = src.unsqueeze(1)\n",
    "            trg = trg.unsqueeze(1)\n",
    "            \n",
    "            start_time = time.time()\n",
    "            output = translate_sentence(model_transformer, src, SRC.vocab, TRG.vocab, device)\n",
    "            end_time = time.time()\n",
    "            epoch_mins, epoch_secs = epoch_time(start_time, end_time)\n",
    "            eval_secs_history_transformer.append(epoch_secs)\n",
    "\n",
    "            original_text.extend([get_text(x, TRG.vocab) for x in trg[1:, :].cpu().numpy().T])\n",
    "            generated_text.extend([get_text(x, TRG.vocab) for x in np.array([output])])"
   ]
  },
  {
   "cell_type": "markdown",
   "metadata": {},
   "source": [
    "В данном случае размер батча равен 1"
   ]
  },
  {
   "cell_type": "code",
   "execution_count": 55,
   "metadata": {},
   "outputs": [
    {
     "name": "stdout",
     "output_type": "stream",
     "text": [
      "Cкорость применения модели в режиме inference в пересчете на один батч размером 32: 2.083731115722656 seconds\n",
      "BLEU for this model: 32.16712358178473\n"
     ]
    }
   ],
   "source": [
    "# скорость применения модели в режиме inference в пересчете на один батч размером 32 (если размер батча необходимо уменьшить, например, до 16, то умножьте усредненный результат на 32/16 = 2)\n",
    "eval_secs_history_transformer_32 = np.mean(eval_secs_history_transformer) * (32 / 1)\n",
    "print(f\"Cкорость применения модели в режиме inference в пересчете на один батч размером 32: {eval_secs_history_transformer_32} seconds\")\n",
    "\n",
    "bleu_transformer = corpus_bleu([[text] for text in original_text], generated_text) * 100\n",
    "print(f\"BLEU for this model: {bleu_transformer}\")"
   ]
  },
  {
   "cell_type": "code",
   "execution_count": 57,
   "metadata": {},
   "outputs": [
    {
     "name": "stdout",
     "output_type": "stream",
     "text": [
      "Пример плохого перевода:\n",
      "Оригинальный текст: in addition , b & b offers a free safari .\n",
      "Сгенерированный текст: bed & breakfast offers on a safari .\n",
      "\n",
      "Оригинальный текст: you can play mini golf or visit the games room , with billiards and table tennis .\n",
      "Сгенерированный текст: you can play mini golf and billiards at the mini - golf or table tennis .\n",
      "\n",
      "Пример хорошего перевода:\n",
      "Оригинальный текст: the bathroom includes a bath or a shower .\n",
      "Сгенерированный текст: each room comes with a bathroom fitted with a bath or shower .\n",
      "\n",
      "Оригинальный текст: each room here will provide guests with a cable led tv , air conditioning and a minibar .\n",
      "Сгенерированный текст: each room is equipped with a cable tv , air conditioning and a minibar .\n",
      "\n"
     ]
    }
   ],
   "source": [
    "def print_translation(original_text, generated_text):\n",
    "    orig = \" \".join(original_text)\n",
    "    gen = \" \".join(generated_text)\n",
    "    print(f\"Оригинальный текст: {orig}\\nСгенерированный текст: {gen}\\n\")\n",
    "    \n",
    "print(\"Пример плохого перевода:\")\n",
    "print_translation(original_text[4752], generated_text[4752])\n",
    "print_translation(original_text[4548], generated_text[4548])\n",
    "\n",
    "print(\"Пример хорошего перевода:\")\n",
    "print_translation(original_text[2092], generated_text[2092])\n",
    "print_translation(original_text[5035], generated_text[5035])"
   ]
  },
  {
   "cell_type": "markdown",
   "metadata": {},
   "source": [
    "### Model 4 - ruBERT Encoder\n",
    "__В данной модели в качестве энкодера выступает ruBERT [(спасибо Hugging Face и DeepPavlov)](https://huggingface.co/DeepPavlov/rubert-base-cased-sentence), в качестве декодера - GRU. Между энкодером и декодером реализован механизм Attention. RuBert был заморожен и не обучался.__ \n",
    "\n",
    "RuBERT требует немного другой препроцессинг данных, поэтому препроцессинг был осуществлен с нуля."
   ]
  },
  {
   "cell_type": "code",
   "execution_count": 5,
   "metadata": {},
   "outputs": [],
   "source": [
    "from transformers import AutoTokenizer, AutoModel\n",
    "  \n",
    "tokenizer_ru_bert = AutoTokenizer.from_pretrained(\"DeepPavlov/rubert-base-cased-sentence\")\n",
    "\n",
    "model_ru_bert = AutoModel.from_pretrained(\"DeepPavlov/rubert-base-cased-sentence\")"
   ]
  },
  {
   "cell_type": "code",
   "execution_count": 6,
   "metadata": {},
   "outputs": [],
   "source": [
    "def ru_tokenize(x, tokenizer=tokenizer_ru_bert):\n",
    "    return tokenizer.tokenize(x.lower())\n",
    "\n",
    "tokenizer_W = WordPunctTokenizer()\n",
    "def en_tokenize(x, tokenizer=tokenizer_W):\n",
    "    return tokenizer.tokenize(x.lower())"
   ]
  },
  {
   "cell_type": "code",
   "execution_count": 7,
   "metadata": {},
   "outputs": [],
   "source": [
    "SRC = Field(tokenize=ru_tokenize,\n",
    "            init_token='[CLS]',\n",
    "            eos_token='[SEP]',\n",
    "            pad_token='[PAD]',\n",
    "            unk_token='[UNK]',)\n",
    "\n",
    "TRG = Field(tokenize=en_tokenize,\n",
    "            init_token = '<sos>', \n",
    "            eos_token = '<eos>', \n",
    "            lower = True)\n",
    "\n",
    "dataset = TabularDataset(\n",
    "    path=path_do_data,\n",
    "    format='tsv',\n",
    "    fields=[('trg', TRG), ('src', SRC)]\n",
    ")"
   ]
  },
  {
   "cell_type": "code",
   "execution_count": 8,
   "metadata": {},
   "outputs": [],
   "source": [
    "train_data, valid_data, test_data = dataset.split(split_ratio=[0.8, 0.15, 0.05], random_state=random.seed(42))"
   ]
  },
  {
   "cell_type": "code",
   "execution_count": 9,
   "metadata": {},
   "outputs": [],
   "source": [
    "SRC.build_vocab(train_data, min_freq = 3)\n",
    "TRG.build_vocab(train_data, min_freq = 3)"
   ]
  },
  {
   "cell_type": "code",
   "execution_count": 10,
   "metadata": {},
   "outputs": [],
   "source": [
    "SRC.vocab.stoi = tokenizer_ru_bert.get_vocab()\n",
    "SRC.vocab.itos = {v: k for k, v in tokenizer_ru_bert.get_vocab().items()}"
   ]
  },
  {
   "cell_type": "code",
   "execution_count": 11,
   "metadata": {},
   "outputs": [],
   "source": [
    "def _len_sort_key(x):\n",
    "    return len(x.src)\n",
    "\n",
    "BATCH_SIZE = 64\n",
    "\n",
    "train_iterator, valid_iterator, test_iterator = BucketIterator.splits(\n",
    "    (train_data, valid_data, test_data), \n",
    "    batch_size = BATCH_SIZE, \n",
    "    device = device,\n",
    "    sort_key=_len_sort_key\n",
    ")"
   ]
  },
  {
   "cell_type": "code",
   "execution_count": 12,
   "metadata": {},
   "outputs": [],
   "source": [
    "import my_network_ruBERT_Attention\n",
    "Encoder = my_network_ruBERT_Attention.Encoder\n",
    "Attention = my_network_ruBERT_Attention.Attention\n",
    "Decoder = my_network_ruBERT_Attention.Decoder\n",
    "Seq2Seq = my_network_ruBERT_Attention.Seq2Seq"
   ]
  },
  {
   "cell_type": "code",
   "execution_count": 13,
   "metadata": {},
   "outputs": [
    {
     "name": "stderr",
     "output_type": "stream",
     "text": [
      "/home/ubuntu/anaconda3/lib/python3.8/site-packages/torch/nn/modules/rnn.py:60: UserWarning: dropout option adds dropout after all but last recurrent layer, so non-zero dropout expects num_layers greater than 1, but got dropout=0.2 and num_layers=1\n",
      "  warnings.warn(\"dropout option adds dropout after all but last \"\n"
     ]
    }
   ],
   "source": [
    "INPUT_DIM = len(SRC.vocab)\n",
    "OUTPUT_DIM = len(TRG.vocab)\n",
    "ENC_EMB_DIM = 256\n",
    "DEC_EMB_DIM = 256\n",
    "HID_DIM = 768\n",
    "N_LAYERS = 1\n",
    "ENC_DROPOUT = 0.2\n",
    "DEC_DROPOUT = 0.2\n",
    "\n",
    "enc = Encoder(model_ru_bert, SRC.vocab, device)\n",
    "attention = Attention(HID_DIM, HID_DIM)\n",
    "dec = Decoder(OUTPUT_DIM, DEC_EMB_DIM, HID_DIM, N_LAYERS, DEC_DROPOUT, attention)\n",
    "\n",
    "# dont forget to put the model to the right device\n",
    "model_ru_bert = Seq2Seq(enc, dec, device).to(device)"
   ]
  },
  {
   "cell_type": "code",
   "execution_count": 14,
   "metadata": {},
   "outputs": [
    {
     "data": {
      "text/plain": [
       "Decoder(\n",
       "  (attention): Attention(\n",
       "    (att): Linear(in_features=1536, out_features=768, bias=True)\n",
       "    (v): Linear(in_features=768, out_features=1, bias=False)\n",
       "  )\n",
       "  (embedding): Embedding(6736, 256)\n",
       "  (rnn): GRU(1024, 768, dropout=0.2)\n",
       "  (out): Linear(in_features=1792, out_features=6736, bias=True)\n",
       "  (dropout): Dropout(p=0.2, inplace=False)\n",
       ")"
      ]
     },
     "execution_count": 14,
     "metadata": {},
     "output_type": "execute_result"
    }
   ],
   "source": [
    "def init_weights(m):\n",
    "    for name, param in m.named_parameters():\n",
    "        nn.init.uniform_(param, -0.08, 0.08)\n",
    "        \n",
    "model_ru_bert.decoder.apply(init_weights)"
   ]
  },
  {
   "cell_type": "code",
   "execution_count": 15,
   "metadata": {},
   "outputs": [],
   "source": [
    "# заморозим веса ruBERT\n",
    "for param in model_ru_bert.encoder.parameters():\n",
    "    param.requires_grad = False"
   ]
  },
  {
   "cell_type": "code",
   "execution_count": 21,
   "metadata": {},
   "outputs": [
    {
     "name": "stdout",
     "output_type": "stream",
     "text": [
      "The model has 19,116,624 trainable parameters\n"
     ]
    }
   ],
   "source": [
    "print(f'The model has {count_parameters(model_ru_bert):,} trainable parameters')"
   ]
  },
  {
   "cell_type": "code",
   "execution_count": 22,
   "metadata": {},
   "outputs": [],
   "source": [
    "PAD_IDX = TRG.vocab.stoi['<pad>']\n",
    "optimizer = optim.Adam(model_ru_bert.parameters(), lr=0.0001)\n",
    "criterion = nn.CrossEntropyLoss(ignore_index = PAD_IDX)\n",
    "scheduler = optim.lr_scheduler.ReduceLROnPlateau(optimizer, patience=2)"
   ]
  },
  {
   "cell_type": "code",
   "execution_count": 23,
   "metadata": {},
   "outputs": [],
   "source": [
    "train_history_ru_bert = []\n",
    "valid_history_ru_bert = []\n",
    "epoch_secs_history_ru_bert = []\n",
    "\n",
    "N_EPOCHS = 15\n",
    "CLIP = 1\n",
    "\n",
    "best_valid_loss = float('inf')"
   ]
  },
  {
   "cell_type": "code",
   "execution_count": 24,
   "metadata": {},
   "outputs": [
    {
     "data": {
      "image/png": "[encoded data removed]",
      "text/plain": [
       "<Figure size 864x576 with 2 Axes>"
      ]
     },
     "metadata": {
      "needs_background": "light"
     },
     "output_type": "display_data"
    },
    {
     "name": "stdout",
     "output_type": "stream",
     "text": [
      "Epoch: 15 | Time: 8.29867228269577m 497.9203369617462s\n",
      "\tTrain Loss: 2.566 | Train PPL:  13.012\n",
      "\t Val. Loss: 4.615 |  Val. PPL: 100.940\n"
     ]
    }
   ],
   "source": [
    "for epoch in range(N_EPOCHS):\n",
    "    \n",
    "    start_time = time.time()\n",
    "    train_loss = train(model_ru_bert, train_iterator, optimizer, criterion, CLIP, train_history_ru_bert, valid_history_ru_bert)\n",
    "    end_time = time.time()\n",
    "    valid_loss = evaluate(model_ru_bert, valid_iterator, criterion)\n",
    "    scheduler.step(valid_loss)\n",
    "    \n",
    "    epoch_mins, epoch_secs = epoch_time(start_time, end_time)\n",
    "    \n",
    "    if valid_loss < best_valid_loss:\n",
    "        best_valid_loss = valid_loss\n",
    "        torch.save(model_ru_bert.state_dict(), 'tut-model_ru_bert.pt')\n",
    "    \n",
    "    train_history_ru_bert.append(train_loss)\n",
    "    valid_history_ru_bert.append(valid_loss)\n",
    "    epoch_secs_history_ru_bert.append(epoch_secs)\n",
    "    print(f'Epoch: {epoch+1:02} | Time: {epoch_mins}m {epoch_secs}s')\n",
    "    print(f'\\tTrain Loss: {train_loss:.3f} | Train PPL: {math.exp(train_loss):7.3f}')\n",
    "    print(f'\\t Val. Loss: {valid_loss:.3f} |  Val. PPL: {math.exp(valid_loss):7.3f}')"
   ]
  },
  {
   "cell_type": "code",
   "execution_count": 25,
   "metadata": {},
   "outputs": [
    {
     "name": "stdout",
     "output_type": "stream",
     "text": [
      "Среднее время одной эпохи в секундах: 494.2936296621958 seconds\n",
      "Среднее время одной эпохи в минутах: 8.238227161036598 minutes\n",
      "Количество пар использованных примеров: 600000\n"
     ]
    }
   ],
   "source": [
    "# скорость обучения модели (с точки зрения затраченного времени)\n",
    "average_epoch_secs_history_ru_bert = np.mean(epoch_secs_history_ru_bert)\n",
    "print(f\"Среднее время одной эпохи в секундах: {average_epoch_secs_history_ru_bert} seconds\")\n",
    "print(f\"Среднее время одной эпохи в минутах: {average_epoch_secs_history_ru_bert / 60} minutes\")\n",
    "\n",
    "# количество пар использованных примеров (число эпох * число обработанных батчей за одну эпоху * размер батча) \n",
    "num_pairs_examples_used_ru_bert = N_EPOCHS * len(train_iterator) * BATCH_SIZE\n",
    "print(f\"Количество пар использованных примеров: {num_pairs_examples_used_ru_bert}\")"
   ]
  },
  {
   "cell_type": "markdown",
   "metadata": {},
   "source": [
    "__Let's take a look at our network quality__:"
   ]
  },
  {
   "cell_type": "code",
   "execution_count": 27,
   "metadata": {},
   "outputs": [],
   "source": [
    "from nltk.translate.bleu_score import corpus_bleu\n",
    "\n",
    "import utils\n",
    "import imp"
   ]
  },
  {
   "cell_type": "code",
   "execution_count": 28,
   "metadata": {},
   "outputs": [],
   "source": [
    "imp.reload(utils)\n",
    "generate_translation = utils.generate_translation\n",
    "remove_tech_tokens = utils.remove_tech_tokens\n",
    "get_text = utils.get_text\n",
    "flatten = utils.flatten"
   ]
  },
  {
   "cell_type": "code",
   "execution_count": 29,
   "metadata": {},
   "outputs": [],
   "source": [
    "original_text = []\n",
    "generated_text = []\n",
    "eval_secs_history_ru_bert = []\n",
    "model_ru_bert.eval()\n",
    "with torch.no_grad():\n",
    "\n",
    "    for i, batch in enumerate(test_iterator):\n",
    "\n",
    "        src = batch.src\n",
    "        trg = batch.trg\n",
    "        \n",
    "        start_time = time.time()\n",
    "        output = model_ru_bert(src, trg, 0) #turn off teacher forcing\n",
    "        end_time = time.time()\n",
    "        \n",
    "        epoch_mins, epoch_secs = epoch_time(start_time, end_time)\n",
    "        eval_secs_history_ru_bert.append(epoch_secs)\n",
    "\n",
    "        #trg = [trg sent len, batch size]\n",
    "        #output = [trg sent len, batch size, output dim]\n",
    "\n",
    "        output = output.argmax(dim=-1)\n",
    "        \n",
    "        original_text.extend([get_text(x, TRG.vocab) for x in trg.cpu().numpy().T])\n",
    "        generated_text.extend([get_text(x, TRG.vocab) for x in output[1:].detach().cpu().numpy().T])"
   ]
  },
  {
   "cell_type": "code",
   "execution_count": 30,
   "metadata": {},
   "outputs": [
    {
     "name": "stdout",
     "output_type": "stream",
     "text": [
      "Cкорость применения модели в режиме inference в пересчете на один батч размером 32: 0.026778048377926068 seconds\n",
      "BLEU for this model: 15.994632331043878\n"
     ]
    }
   ],
   "source": [
    "# скорость применения модели в режиме inference в пересчете на один батч размером 32 (если размер батча необходимо уменьшить, например, до 16, то умножьте усредненный результат на 32/16 = 2)\n",
    "eval_secs_history_ru_bert_32 = np.mean(eval_secs_history_ru_bert) * (32 / BATCH_SIZE)\n",
    "print(f\"Cкорость применения модели в режиме inference в пересчете на один батч размером 32: {eval_secs_history_ru_bert_32} seconds\")\n",
    "\n",
    "bleu_ru_bert = corpus_bleu([[text] for text in original_text], generated_text) * 100\n",
    "print(f\"BLEU for this model: {bleu_ru_bert}\")"
   ]
  },
  {
   "cell_type": "code",
   "execution_count": 35,
   "metadata": {},
   "outputs": [
    {
     "name": "stdout",
     "output_type": "stream",
     "text": [
      "Пример плохого перевода:\n",
      "Оригинальный текст: if you feel like visiting the surroundings , check out pula golf 2 . 4 km from the property .\n",
      "Сгенерированный текст: the golf golf course is 2 . 4 km from the golf club , 2 . 4 km from the golf\n",
      "\n",
      "Оригинальный текст: beach is 30 km and porto beach is at a distance of 35 km .\n",
      "Сгенерированный текст: the property is 30 km from the sandy beach , 35 km from punta beach , 35 km from the property .\n",
      "\n",
      "Пример хорошего перевода:\n",
      "Оригинальный текст: free wi - fi is included .\n",
      "Сгенерированный текст: free wi - fi access is available in the property .\n",
      "\n"
     ]
    }
   ],
   "source": [
    "print(\"Пример плохого перевода:\")\n",
    "print_translation(original_text[1913], generated_text[1913])\n",
    "print_translation(original_text[4970], generated_text[4970])\n",
    "\n",
    "print(\"Пример хорошего перевода:\")\n",
    "print_translation(original_text[3], generated_text[3])"
   ]
  },
  {
   "cell_type": "markdown",
   "metadata": {},
   "source": [
    "В сгенерированном переводе слова часто повторяются"
   ]
  },
  {
   "cell_type": "markdown",
   "metadata": {},
   "source": [
    "# Final results"
   ]
  },
  {
   "cell_type": "code",
   "execution_count": 38,
   "metadata": {},
   "outputs": [
    {
     "data": {
      "image/png": "[encoded data removed]",
      "text/plain": [
       "<Figure size 1080x576 with 1 Axes>"
      ]
     },
     "metadata": {
      "needs_background": "light"
     },
     "output_type": "display_data"
    }
   ],
   "source": [
    "fig, ax = plt.subplots()\n",
    "\n",
    "ax.bar([1, 2, 3, 4],\n",
    "       [\n",
    "           bleu_RNN_Attention,\n",
    "           bleu_CNN_Encoder,\n",
    "           bleu_transformer,\n",
    "           bleu_ru_bert,\n",
    "       ],\n",
    "       tick_label=[\n",
    "           \"RNN Attention\",\n",
    "           \"CNN Encoder\",\n",
    "           \"Transformer\",\n",
    "           \"ruBERT Encoder\"\n",
    "       ]\n",
    "    )\n",
    "\n",
    "fig.set_figwidth(15)\n",
    "fig.set_figheight(8) \n",
    "ax.set_ylabel(\"BLEU score\")\n",
    "plt.show()"
   ]
  },
  {
   "cell_type": "code",
   "execution_count": 39,
   "metadata": {},
   "outputs": [],
   "source": [
    "import pandas as pd"
   ]
  },
  {
   "cell_type": "code",
   "execution_count": 185,
   "metadata": {},
   "outputs": [],
   "source": [
    "d = {\n",
    "    \"№ experiment\": [1, 2, 3, 4],\n",
    "    \"encoder\": [\"bidirectional GRU\", \"CNN\", \"transformer encoder\", \"ruBERT\"],\n",
    "    \"decoder\": [\"GRU\", \"LSTM\", \"transformer decoder\", \"GRU\"],\n",
    "    \"attention\": [\"+\", \"-\", \"+\", \"+\"],\n",
    "    \"скорость обучения (одна эпоха) в секундах\": [\n",
    "        average_epoch_secs_history_RNN_Attention,\n",
    "        average_epoch_secs_history_CNN_Encoder,\n",
    "        average_epoch_secs_history_transformer,\n",
    "        average_epoch_secs_history_ru_bert,\n",
    "    ],\n",
    "    \"количество пар использованных примеров\": [\n",
    "        num_pairs_examples_used_RNN_Attention,\n",
    "        num_pairs_examples_used_CNN_Encoder,\n",
    "        num_pairs_examples_used_transformer,\n",
    "        num_pairs_examples_used_ru_bert,\n",
    "    ],\n",
    "    \"скорость применения модели в режиме inference в пересчете на один батч размером 32\": [\n",
    "        eval_secs_history_RNN_Attention_32,\n",
    "        eval_secs_history_CNN_Encoder_32,\n",
    "        eval_secs_history_transformer_32,\n",
    "        eval_secs_history_ru_bert_32,\n",
    "    ],\n",
    "    \"BLEU\": [\n",
    "        bleu_RNN_Attention,\n",
    "        bleu_CNN_Encoder,\n",
    "        bleu_transformer,\n",
    "        bleu_ru_bert,\n",
    "    ],\n",
    "}\n",
    "df = pd.DataFrame(data=d)"
   ]
  },
  {
   "cell_type": "code",
   "execution_count": 41,
   "metadata": {},
   "outputs": [
    {
     "data": {
      "text/html": [
       "<div>\n",
       "<style scoped>\n",
       "    .dataframe tbody tr th:only-of-type {\n",
       "        vertical-align: middle;\n",
       "    }\n",
       "\n",
       "    .dataframe tbody tr th {\n",
       "        vertical-align: top;\n",
       "    }\n",
       "\n",
       "    .dataframe thead th {\n",
       "        text-align: right;\n",
       "    }\n",
       "</style>\n",
       "<table border=\"1\" class=\"dataframe\">\n",
       "  <thead>\n",
       "    <tr style=\"text-align: right;\">\n",
       "      <th></th>\n",
       "      <th>№ experiment</th>\n",
       "      <th>encoder</th>\n",
       "      <th>decoder</th>\n",
       "      <th>attention</th>\n",
       "      <th>скорость обучения (одна эпоха) в секундах</th>\n",
       "      <th>количество пар использованных примеров</th>\n",
       "      <th>скорость применения модели в режиме inference в пересчете на один батч размером 32</th>\n",
       "      <th>BLEU</th>\n",
       "    </tr>\n",
       "  </thead>\n",
       "  <tbody>\n",
       "    <tr>\n",
       "      <th>0</th>\n",
       "      <td>1</td>\n",
       "      <td>bidirectional GRU</td>\n",
       "      <td>GRU</td>\n",
       "      <td>+</td>\n",
       "      <td>279.722017</td>\n",
       "      <td>600960</td>\n",
       "      <td>0.018567</td>\n",
       "      <td>34.053300</td>\n",
       "    </tr>\n",
       "    <tr>\n",
       "      <th>1</th>\n",
       "      <td>2</td>\n",
       "      <td>CNN</td>\n",
       "      <td>LSTM</td>\n",
       "      <td>-</td>\n",
       "      <td>88.666889</td>\n",
       "      <td>600960</td>\n",
       "      <td>0.016071</td>\n",
       "      <td>24.549165</td>\n",
       "    </tr>\n",
       "    <tr>\n",
       "      <th>2</th>\n",
       "      <td>3</td>\n",
       "      <td>transformer encoder</td>\n",
       "      <td>transformer decoder</td>\n",
       "      <td>+</td>\n",
       "      <td>114.255034</td>\n",
       "      <td>600960</td>\n",
       "      <td>2.083731</td>\n",
       "      <td>32.167124</td>\n",
       "    </tr>\n",
       "    <tr>\n",
       "      <th>3</th>\n",
       "      <td>4</td>\n",
       "      <td>ruBERT</td>\n",
       "      <td>GRU</td>\n",
       "      <td>+</td>\n",
       "      <td>494.293630</td>\n",
       "      <td>600000</td>\n",
       "      <td>0.026778</td>\n",
       "      <td>15.994632</td>\n",
       "    </tr>\n",
       "  </tbody>\n",
       "</table>\n",
       "</div>"
      ],
      "text/plain": [
       "   № experiment              encoder              decoder attention  \\\n",
       "0             1    bidirectional GRU                  GRU         +   \n",
       "1             2                  CNN                 LSTM         -   \n",
       "2             3  transformer encoder  transformer decoder         +   \n",
       "3             4               ruBERT                  GRU         +   \n",
       "\n",
       "   скорость обучения (одна эпоха) в секундах  \\\n",
       "0                                 279.722017   \n",
       "1                                  88.666889   \n",
       "2                                 114.255034   \n",
       "3                                 494.293630   \n",
       "\n",
       "   количество пар использованных примеров  \\\n",
       "0                                  600960   \n",
       "1                                  600960   \n",
       "2                                  600960   \n",
       "3                                  600000   \n",
       "\n",
       "   скорость применения модели в режиме inference в пересчете на один батч размером 32  \\\n",
       "0                                           0.018567                                    \n",
       "1                                           0.016071                                    \n",
       "2                                           2.083731                                    \n",
       "3                                           0.026778                                    \n",
       "\n",
       "        BLEU  \n",
       "0  34.053300  \n",
       "1  24.549165  \n",
       "2  32.167124  \n",
       "3  15.994632  "
      ]
     },
     "execution_count": 41,
     "metadata": {},
     "output_type": "execute_result"
    }
   ],
   "source": [
    "df"
   ]
  },
  {
   "cell_type": "markdown",
   "metadata": {},
   "source": [
    "__В итоге, лучшие результаты с точки зрения BLEU показали архитетктуры 1 и 3 (GRU with attention и transformer). Быстрее всех обучалась архитектура 2 (CNN Encoder). К удивлению RuBert показал далеко не лучший результат, хотя возможно стоило более тщательней крутить гиперпараметры модели. Также стоит отметить, что функция инференса для трансформера была написана не совсем оптимально с точки зрения времени, поэтому скорость применения модели в режиме инференса такая медленная.__"
   ]
  }
 ],
 "metadata": {
  "anaconda-cloud": {},
  "colab": {
   "collapsed_sections": [],
   "machine_shape": "hm",
   "name": "homework.ipynb",
   "provenance": []
  },
  "kernelspec": {
   "display_name": "Python 3",
   "language": "python",
   "name": "python3"
  },
  "language_info": {
   "codemirror_mode": {
    "name": "ipython",
    "version": 3
   },
   "file_extension": ".py",
   "mimetype": "text/x-python",
   "name": "python",
   "nbconvert_exporter": "python",
   "pygments_lexer": "ipython3",
   "version": "3.8.1"
  }
 },
 "nbformat": 4,
 "nbformat_minor": 1
}
