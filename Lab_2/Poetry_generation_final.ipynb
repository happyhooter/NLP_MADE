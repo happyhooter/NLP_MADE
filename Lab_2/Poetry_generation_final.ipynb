{
 "cells": [
  {
   "cell_type": "markdown",
   "metadata": {},
   "source": [
    "## Poetry generation\n",
    "\n",
    "Let's try to generate some poetry using RNNs. \n",
    "\n",
    "You have several choices here: \n",
    "\n",
    "* The Shakespeare sonnets, file `sonnets.txt` available in the notebook directory.\n",
    "\n",
    "* Роман в стихах \"Евгений Онегин\" Александра Сергеевича Пушкина. В предобработанном виде доступен по [ссылке](https://github.com/attatrol/data_sources/blob/master/onegin.txt).\n",
    "\n",
    "* Some other text source, if it will be approved by the course staff.\n",
    "\n",
    "Text generation can be designed in several steps:\n",
    "    \n",
    "1. Data loading.\n",
    "2. Dictionary generation.\n",
    "3. Data preprocessing.\n",
    "4. Model (neural network) training.\n",
    "5. Text generation (model evaluation).\n"
   ]
  },
  {
   "cell_type": "code",
   "execution_count": 27,
   "metadata": {},
   "outputs": [],
   "source": [
    "import string\n",
    "import os\n",
    "\n",
    "import torch, torch.nn as nn\n",
    "import torch.nn.functional as F\n",
    "from IPython.display import clear_output\n",
    "import numpy as np\n",
    "from matplotlib import pyplot as plt\n",
    "\n",
    "from networks import CharRNNCell, CharLSTMLoop"
   ]
  },
  {
   "cell_type": "markdown",
   "metadata": {},
   "source": [
    "### Data loading: Shakespeare"
   ]
  },
  {
   "cell_type": "markdown",
   "metadata": {},
   "source": [
    "Shakespeare sonnets are awailable at this [link](http://www.gutenberg.org/ebooks/1041?msg=welcome_stranger). In addition, they are stored in the same directory as this notebook (`sonnetes.txt`). Simple preprocessing is already done for you in the next cell: all technical info is dropped."
   ]
  },
  {
   "cell_type": "code",
   "execution_count": 2,
   "metadata": {},
   "outputs": [],
   "source": [
    "if not os.path.exists('sonnets.txt'):\n",
    "    !wget https://raw.githubusercontent.com/girafe-ai/ml-mipt/master/homeworks_basic/Lab2_DL/sonnets.txt\n",
    "\n",
    "with open('sonnets.txt', 'r') as iofile:\n",
    "    text = iofile.readlines()\n",
    "    \n",
    "TEXT_START = 45\n",
    "TEXT_END = -368\n",
    "text = text[TEXT_START : TEXT_END]\n",
    "assert len(text) == 2616"
   ]
  },
  {
   "cell_type": "markdown",
   "metadata": {},
   "source": [
    "In opposite to the in-class practice, this time we want to predict complex text. Let's reduce the complexity of the task and lowercase all the symbols.\n",
    "\n",
    "Now variable `text` is a list of strings. Join all the strings into one and lowercase it."
   ]
  },
  {
   "cell_type": "code",
   "execution_count": 3,
   "metadata": {},
   "outputs": [
    {
     "name": "stdout",
     "output_type": "stream",
     "text": [
      "OK!\n"
     ]
    }
   ],
   "source": [
    "# Join all the strings into one and lowercase it\n",
    "# Put result into variable text.\n",
    "\n",
    "\n",
    "text = [sentence.lower() for sentence in text] # Your great code here\n",
    "text = \"\".join(text)\n",
    "\n",
    "assert len(text) == 100225, 'Are you sure you have concatenated all the strings?'\n",
    "assert not any([x in set(text) for x in string.ascii_uppercase]), 'Uppercase letters are present'\n",
    "print('OK!')"
   ]
  },
  {
   "cell_type": "markdown",
   "metadata": {},
   "source": [
    "### Tokens "
   ]
  },
  {
   "cell_type": "markdown",
   "metadata": {},
   "source": [
    "Put all the characters, that you've seen in the text, into variable `tokens`."
   ]
  },
  {
   "cell_type": "code",
   "execution_count": 4,
   "metadata": {},
   "outputs": [],
   "source": [
    "tokens = sorted(set(text))"
   ]
  },
  {
   "cell_type": "markdown",
   "metadata": {},
   "source": [
    "Create dictionary `token_to_idx = {<char>: <index>}` and dictionary `idx_to_token = {<index>: <char>}`"
   ]
  },
  {
   "cell_type": "code",
   "execution_count": 5,
   "metadata": {},
   "outputs": [],
   "source": [
    "# dict <index>:<char>\n",
    "token_to_idx = {\n",
    "    token: idx\n",
    "    for idx, token in enumerate(tokens)\n",
    "} # Your great code here\n",
    "\n",
    "# dict <char>:<index>\n",
    "idx_to_token = {\n",
    "    idx: token\n",
    "    for idx, token in enumerate(tokens)\n",
    "} # Your great code here"
   ]
  },
  {
   "cell_type": "markdown",
   "metadata": {},
   "source": [
    "*Comment: in this task we have only 38 different tokens, so let's use one-hot encoding.*"
   ]
  },
  {
   "cell_type": "markdown",
   "metadata": {},
   "source": [
    "### Preprocess Shakespeare"
   ]
  },
  {
   "cell_type": "code",
   "execution_count": 6,
   "metadata": {},
   "outputs": [],
   "source": [
    "shakespeare_texts = text.split(\"\\n\\n\")[::2]"
   ]
  },
  {
   "cell_type": "code",
   "execution_count": 7,
   "metadata": {},
   "outputs": [],
   "source": [
    "BATCH_SIZE = 32\n",
    "train_dataloader = torch.utils.data.DataLoader(shakespeare_texts, batch_size=BATCH_SIZE, num_workers=0, pin_memory=True,\n",
    "                                  shuffle=True, drop_last=True)"
   ]
  },
  {
   "cell_type": "markdown",
   "metadata": {},
   "source": [
    "### Building the model"
   ]
  },
  {
   "cell_type": "markdown",
   "metadata": {},
   "source": [
    "Now we want to build and train recurrent neural net which would be able to something similar to Shakespeare's poetry.\n",
    "\n",
    "Let's use vanilla RNN, similar to the one created during the lesson."
   ]
  },
  {
   "cell_type": "code",
   "execution_count": 8,
   "metadata": {},
   "outputs": [],
   "source": [
    "def to_matrix(texts, max_len=None, pad=token_to_idx[' '], dtype='int32', batch_first=True):\n",
    "    \"\"\"Casts a list of texts into rnn-digestable matrix\"\"\"\n",
    "    \n",
    "    max_len = max_len or max(map(len, texts))\n",
    "    texts_ix = np.zeros([len(texts), max_len], dtype) + pad\n",
    "\n",
    "    for i in range(len(texts)):\n",
    "        line_ix = [token_to_idx[c] for c in texts[i]]\n",
    "        texts_ix[i, :len(line_ix)] = line_ix[:max_len]\n",
    "        \n",
    "    if not batch_first:\n",
    "        texts_ix = np.transpose(texts_ix)\n",
    "\n",
    "    return texts_ix"
   ]
  },
  {
   "cell_type": "code",
   "execution_count": 9,
   "metadata": {},
   "outputs": [],
   "source": [
    "def rnn_loop(char_rnn, batch_ix):\n",
    "    batch_size, max_length = batch_ix.size()\n",
    "    hid_state = char_rnn.initial_state(batch_size)\n",
    "    probs = []\n",
    "\n",
    "    for x_t in batch_ix.transpose(0,1):\n",
    "        hid_state, p_next = char_rnn(x_t, hid_state)\n",
    "        probs.append(p_next)\n",
    "        \n",
    "    return torch.stack(probs, dim=1)"
   ]
  },
  {
   "cell_type": "code",
   "execution_count": 10,
   "metadata": {},
   "outputs": [],
   "source": [
    "def train_vanila_rnn(model, loader, criterion, opt):\n",
    "    model.train()\n",
    "    train_loss = []\n",
    "    for batch in loader:\n",
    "        batch_ix = to_matrix(batch, max_len=None)\n",
    "        batch_ix = torch.tensor(batch_ix, dtype=torch.int64)\n",
    "\n",
    "        p_seq = rnn_loop(char_rnn, batch_ix)\n",
    "\n",
    "        # compute loss\n",
    "        predictions_p = p_seq[:, :-1]\n",
    "        actual_next_tokens = batch_ix[:, 1:]\n",
    "        loss = criterion(predictions_p.contiguous().view(-1, len(tokens)), \n",
    "                      actual_next_tokens.contiguous().view(-1))\n",
    "\n",
    "        # train with backprop\n",
    "        loss.backward()\n",
    "        opt.step()\n",
    "        opt.zero_grad()\n",
    "        train_loss.append(loss.data)\n",
    "        \n",
    "    return np.mean(train_loss)"
   ]
  },
  {
   "cell_type": "code",
   "execution_count": 11,
   "metadata": {},
   "outputs": [],
   "source": [
    "char_rnn = CharRNNCell(num_tokens=len(tokens), embedding_size=64, rnn_num_units=128)\n",
    "criterion = nn.CrossEntropyLoss()\n",
    "opt = torch.optim.Adam(char_rnn.parameters())\n",
    "history = []"
   ]
  },
  {
   "cell_type": "code",
   "execution_count": 12,
   "metadata": {},
   "outputs": [
    {
     "data": {
      "image/png": "[encoded data removed]",
      "text/plain": [
       "<Figure size 432x288 with 1 Axes>"
      ]
     },
     "metadata": {
      "needs_background": "light"
     },
     "output_type": "display_data"
    }
   ],
   "source": [
    "for i in range(1000):\n",
    "    loss = train_vanila_rnn(char_rnn, train_dataloader, criterion, opt)\n",
    "    \n",
    "    history.append(loss)\n",
    "    if (i+1)%10==0:\n",
    "        clear_output(True)\n",
    "        plt.plot(history,label='loss')\n",
    "        plt.legend()\n",
    "        plt.show()"
   ]
  },
  {
   "cell_type": "code",
   "execution_count": 13,
   "metadata": {},
   "outputs": [],
   "source": [
    "def generate_sample_for_vanila_rnn(char_rnn, seed_phrase, max_length, temperature=1.0):\n",
    "    '''\n",
    "    ### Disclaimer: this is an example function for text generation.\n",
    "    ### You can either adapt it in your code or create your own function\n",
    "    \n",
    "    The function generates text given a phrase of length at least SEQ_LENGTH.\n",
    "    :param seed_phrase: prefix characters. The RNN is asked to continue the phrase\n",
    "    :param max_length: maximum output length, including seed_phrase\n",
    "    :param temperature: coefficient for sampling.  higher temperature produces more chaotic outputs, \n",
    "        smaller temperature converges to the single most likely output.\n",
    "        \n",
    "    Be careful with the model output. This model waits logits (not probabilities/log-probabilities)\n",
    "    of the next symbol.\n",
    "    '''\n",
    "    \n",
    "    x_sequence = [token_to_idx[token] for token in seed_phrase]\n",
    "    x_sequence = torch.tensor([x_sequence], dtype=torch.int64)\n",
    "    hid_state = char_rnn.initial_state(batch_size=1)\n",
    "    \n",
    "    #feed the seed phrase, if any\n",
    "    for i in range(len(seed_phrase) - 1):\n",
    "        hid_state, out = char_rnn(x_sequence[:, i], hid_state)\n",
    "    \n",
    "    #start generating\n",
    "    for _ in range(max_length - len(seed_phrase)):\n",
    "        hid_state, out = char_rnn(x_sequence[:, -1], hid_state)\n",
    "        # Be really careful here with the model output\n",
    "        p_next = F.softmax(out / temperature, dim=-1).data.numpy()[0]\n",
    "        \n",
    "        # sample next token and push it back into x_sequence\n",
    "        next_ix = np.random.choice(len(tokens), p=p_next)\n",
    "        next_ix = torch.tensor([[next_ix]], dtype=torch.int64)\n",
    "        x_sequence = torch.cat([x_sequence, next_ix], dim=1)\n",
    "        \n",
    "    return ''.join([tokens[ix] for ix in x_sequence.data.numpy()[0]])"
   ]
  },
  {
   "cell_type": "code",
   "execution_count": 14,
   "metadata": {},
   "outputs": [
    {
     "name": "stdout",
     "output_type": "stream",
     "text": [
      "Text for temperature = 0.1:\n",
      "  hellose thee,\n",
      "  and there thought thou lessing brink,\n",
      "    but when i shall never doth live, that thee that shall will shall be the face should so grace to me, then thou mayst thou lease of my love, that thou mayst than thy self thou art the present made of deare\n",
      "  when i now is the present more shart in my death enough to my sour, and thee all my self a torment that which thou thee shall still t\n",
      "-----------------------------------\n",
      "Text for temperature = 0.3:\n",
      "  helloul that you lov'st the world a tormert.\n",
      "    then in the warts i to the words the world alone, and for thee sweet be thy self i have to show the very some thy seen,\n",
      "  which in their sweet seem seem doth bad which in the world summer may of youth,\n",
      "  when thou art the sport,\n",
      "  and in the world me then being are shall his some be this by the worth and prize of thy sing.\n",
      "  if thou art single as \n",
      "-----------------------------------\n",
      "Text for temperature = 0.5:\n",
      "  hellose thee with the bost thou thee:\n",
      "  the love,\n",
      "  and then thou be thy rit,\n",
      "    but no true thy beauty with lies.\n",
      "  that thou art away,\n",
      "  and the straight thou threent their breast of my heart, and yet this thou art,\n",
      "  to thy death enes thee in this than thou wilt, and memory;\n",
      "  the live,\n",
      "  and therefore the trongle,\n",
      "  when i revise, to the world bear the time's burning made,\n",
      "    and then me r\n",
      "-----------------------------------\n",
      "Text for temperature = 0.7:\n",
      "  helloued thy self's resire,\n",
      "  when love of all one, when i all thy fair believe swear tongue\n",
      "  which reason and thee i nuntain of this eyes and rare.\n",
      "    poor repoet what shade happy will night betomn say\n",
      "    my arg of the track in the strength thou mainst thy perfunes and as the wind;\n",
      "  thus came and beauty in thy heart, and my so;\n",
      "  retath the lie,\n",
      "    or what eye hath more\n",
      "  alone all outst t\n",
      "-----------------------------------\n",
      "Text for temperature = 1.0:\n",
      "  hellouls woild the viencled:\n",
      "    in death enes it old;\n",
      "  the i not is i remove,\n",
      "    i seemen age,\n",
      "  and you seasons of fillay your strain'd,\n",
      "  and part.                                                                                                                                                                                                                                                      \n",
      "-----------------------------------\n",
      "Text for temperature = 1.5:\n",
      "  hellowe twee;\n",
      "  nijonguted:\n",
      "  is vouts,\n",
      "  when i lenger is cunned;\n",
      "  rid thoudge-took;,\n",
      "  whats, 'fornuciming by mown anund i raisherse,\n",
      "  who, narghie!! d what with scyclet mays:\n",
      "    ufew day,\n",
      "  doth still of your lips'd bides your bail and peace lives in hy unnenconnimery,\n",
      "  when mener'd.                                                                                                           \n",
      "-----------------------------------\n"
     ]
    }
   ],
   "source": [
    "temperatures = [0.1, 0.3, 0.5, 0.7, 1.0, 1.5]\n",
    "for temp in temperatures:\n",
    "    print(f\"Text for temperature = {temp}:\")\n",
    "    print(generate_sample_for_vanila_rnn(char_rnn, seed_phrase=\"  hello\", max_length=400, temperature=temp))\n",
    "    print(\"-----------------------------------\")"
   ]
  },
  {
   "cell_type": "markdown",
   "metadata": {},
   "source": [
    "### More poetic model\n",
    "\n",
    "Let's use LSTM instead of vanilla RNN and compare the results."
   ]
  },
  {
   "cell_type": "code",
   "execution_count": 15,
   "metadata": {},
   "outputs": [],
   "source": [
    "def train_lstm(model, loader, criterion, opt):\n",
    "    model.train()\n",
    "    train_loss = []\n",
    "    for batch in loader:\n",
    "        batch_ix = to_matrix(batch, max_len=None)\n",
    "        batch_ix = torch.tensor(batch_ix, dtype=torch.int64)\n",
    "\n",
    "        state_h, state_c = model.initial_state(len(batch_ix))\n",
    "        p_seq, (state_h, state_c) = model(batch_ix, (state_h, state_c))\n",
    "\n",
    "        # compute loss\n",
    "        predictions_p = p_seq[:, :-1]\n",
    "        actual_next_tokens = batch_ix[:, 1:]\n",
    "        loss = criterion(predictions_p.contiguous().view(-1, len(tokens)), \n",
    "                      actual_next_tokens.contiguous().view(-1))\n",
    "\n",
    "        # train with backprop\n",
    "        loss.backward()\n",
    "        opt.step()\n",
    "        opt.zero_grad()\n",
    "        train_loss.append(loss.data)\n",
    "        \n",
    "    return np.mean(train_loss)"
   ]
  },
  {
   "cell_type": "code",
   "execution_count": 32,
   "metadata": {},
   "outputs": [],
   "source": [
    "model = CharLSTMLoop(num_tokens=len(tokens), emb_size=64, rnn_num_units=256, num_layers=2)\n",
    "criterion = nn.CrossEntropyLoss()\n",
    "opt = torch.optim.Adam(model.parameters())\n",
    "scheduler = torch.optim.lr_scheduler.ReduceLROnPlateau(opt)\n",
    "history = []"
   ]
  },
  {
   "cell_type": "code",
   "execution_count": 33,
   "metadata": {},
   "outputs": [
    {
     "data": {
      "image/png": "[encoded data removed]",
      "text/plain": [
       "<Figure size 432x288 with 1 Axes>"
      ]
     },
     "metadata": {
      "needs_background": "light"
     },
     "output_type": "display_data"
    }
   ],
   "source": [
    "for i in range(350):\n",
    "    loss = train_lstm(model, train_dataloader, criterion, opt)\n",
    "    \n",
    "    history.append(loss)\n",
    "    if (i+1)%10==0:\n",
    "        clear_output(True)\n",
    "        plt.plot(history,label='loss')\n",
    "        plt.legend()\n",
    "        plt.show()\n",
    "        scheduler.step(np.mean(history))"
   ]
  },
  {
   "cell_type": "code",
   "execution_count": 34,
   "metadata": {},
   "outputs": [],
   "source": [
    "def generate_sample_for_lstm(model, seed_phrase, max_length, temperature=1.0):\n",
    "    x_sequence = [token_to_idx[token] for token in seed_phrase]\n",
    "    x_sequence = torch.tensor([x_sequence], dtype=torch.int64)\n",
    "    state_h, state_c = model.initial_state(batch_size=1)\n",
    "\n",
    "    #feed the seed phrase, if any\n",
    "    for i in range(len(seed_phrase) - 1):\n",
    "        out, (state_h, state_c) = model(x_sequence[:, i].reshape(-1, 1), (state_h, state_c))\n",
    "\n",
    "    #start generating\n",
    "    for _ in range(max_length - len(seed_phrase)):\n",
    "        out, (state_h, state_c) = model(x_sequence[:, -1].reshape(-1, 1), (state_h, state_c))\n",
    "        # Be really careful here with the model output\n",
    "        p_next = F.softmax(out / temperature, dim=-1).data.numpy()[0]\n",
    "\n",
    "        # sample next token and push it back into x_sequence\n",
    "        next_ix = np.random.choice(len(tokens), p=p_next.flatten())\n",
    "        next_ix = torch.tensor([[next_ix]], dtype=torch.int64)\n",
    "        x_sequence = torch.cat([x_sequence, next_ix], dim=1)\n",
    "\n",
    "    return ''.join([tokens[ix] for ix in x_sequence.data.numpy()[0]])"
   ]
  },
  {
   "cell_type": "code",
   "execution_count": 35,
   "metadata": {},
   "outputs": [
    {
     "name": "stdout",
     "output_type": "stream",
     "text": [
      "Text for temperature = 0.1:\n",
      "  hello out as thy fair warerom of the shade,\n",
      "  with time in him thought i call throu all in all,\n",
      "  so day, and thou hast to wor have i seen,\n",
      "  that do ninehe mausing what good thee bright,\n",
      "  without all illare to live anoth prove,\n",
      "  mad will comporan doth the pride of thine,\n",
      "  that may is partil, rest in thee deeds,\n",
      "  that my fair true lies weak shew-orn than the grey;\n",
      "  lest themselves i shall e\n",
      "-----------------------------------\n",
      "Text for temperature = 0.3:\n",
      "  hello will                                                                                                                                                                                                                                                                                                                                                                                                    \n",
      "-----------------------------------\n",
      "Text for temperature = 0.5:\n",
      "  hello outwiar the self--if lain thine?\n",
      "  in thy courses on abunetance mine\n",
      "  a mover most love's grace, then abues of all him seem\n",
      "  doth hows not to my love thou dearth stay\n",
      "  hast thou time, sait in their with a bath new'd,\n",
      "  woo, but that show whick, when it gones\n",
      "  with ten times to the weak he wastes hald one;\n",
      "  mad speak a tombed anought to muse distrest;\n",
      "  that i mithed me love to thee ho\n",
      "-----------------------------------\n",
      "Text for temperature = 0.7:\n",
      "  hellows it wit i steal weeth musing love\n",
      "  against thou miecht thou hast for echins can flow?\n",
      "    by thysear and merest not with teal then lie!\n",
      "  thou art the very born was in my sight,\n",
      "  dear heart from heat, when thou feel of your praise;\n",
      "  but of millander's bless, which in the art,\n",
      "  and in the leasure of thy soul's fair in the:\n",
      "  decrevire thee sin flowel, and his laive in thine:\n",
      "  so thou,\n",
      "-----------------------------------\n",
      "Text for temperature = 1.0:\n",
      "  hello outweal thee, thou shouldst now need\n",
      "    who proud fortin, but not we must you weak\n",
      "  which proves more bless, not lies to sin,\n",
      "  and into the beauty's from fair commance;\n",
      "  so i potion self-turn abusing;\n",
      "  threust pencilless hold hus friends me youth's day,\n",
      "  weedingous on have i as for a lamon,\n",
      "  by prizing bris ounts i self kill death:\n",
      "  then: by they in thy maker thine shall she?\n",
      "    b\n",
      "-----------------------------------\n",
      "Text for temperature = 1.5:\n",
      "  helloony if two huss fast bright.                                                                                                                                                                                                                                                                              m i his                                                                                        \n",
      "-----------------------------------\n"
     ]
    }
   ],
   "source": [
    "for temp in temperatures:\n",
    "    print(f\"Text for temperature = {temp}:\")\n",
    "    print(generate_sample_for_lstm(model, seed_phrase=\"  hello\", max_length=400, temperature=temp))\n",
    "    print(\"-----------------------------------\")"
   ]
  },
  {
   "cell_type": "markdown",
   "metadata": {},
   "source": [
    "### Saving and loading models"
   ]
  },
  {
   "cell_type": "markdown",
   "metadata": {},
   "source": [
    "Save the model to the disk, then load it and generate text. Examples are available [here](https://pytorch.org/tutorials/beginner/saving_loading_models.html])."
   ]
  },
  {
   "cell_type": "code",
   "execution_count": 36,
   "metadata": {},
   "outputs": [],
   "source": [
    "PATH = \"./lstm_Shakespeare\"\n",
    "torch.save(model.state_dict(), PATH)"
   ]
  },
  {
   "cell_type": "code",
   "execution_count": 39,
   "metadata": {},
   "outputs": [
    {
     "data": {
      "text/plain": [
       "<All keys matched successfully>"
      ]
     },
     "execution_count": 39,
     "metadata": {},
     "output_type": "execute_result"
    }
   ],
   "source": [
    "model.load_state_dict(torch.load(PATH))"
   ]
  },
  {
   "cell_type": "markdown",
   "metadata": {},
   "source": [
    "### References\n",
    "1. <a href='http://karpathy.github.io/2015/05/21/rnn-effectiveness/'> Andrew Karpathy blog post about RNN. </a> \n",
    "There are several examples of genration: Shakespeare texts, Latex formulas, Linux Sourse Code and children names.\n",
    "2. <a href='https://github.com/karpathy/char-rnn'> Repo with char-rnn code </a>\n",
    "3. Cool repo with PyTorch examples: [link](https://github.com/spro/practical-pytorch`)"
   ]
  }
 ],
 "metadata": {
  "anaconda-cloud": {},
  "kernelspec": {
   "display_name": "Python 3",
   "language": "python",
   "name": "python3"
  },
  "language_info": {
   "codemirror_mode": {
    "name": "ipython",
    "version": 3
   },
   "file_extension": ".py",
   "mimetype": "text/x-python",
   "name": "python",
   "nbconvert_exporter": "python",
   "pygments_lexer": "ipython3",
   "version": "3.8.1"
  }
 },
 "nbformat": 4,
 "nbformat_minor": 2
}
